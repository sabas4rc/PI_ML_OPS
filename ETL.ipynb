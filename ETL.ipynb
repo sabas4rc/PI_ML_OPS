{
 "cells": [
  {
   "cell_type": "code",
   "execution_count": 763,
   "metadata": {},
   "outputs": [],
   "source": [
    "import pandas as pd\n",
    "import numpy as np\n",
    "import json"
   ]
  },
  {
   "cell_type": "code",
   "execution_count": 764,
   "metadata": {},
   "outputs": [],
   "source": [
    "df_movies = pd.read_csv('https://docs.google.com/spreadsheets/d/e/2PACX-1vQvkzhNqBvAGO-t5sYvzU-jIXRxe2M-AyjR6pkJJNkRFD3aDLCtECgSeLvGT1yOMVxfhqvfqVVKIlAb/pub?gid=1782336382&single=true&output=csv')"
   ]
  },
  {
   "cell_type": "code",
   "execution_count": 765,
   "metadata": {},
   "outputs": [],
   "source": [
    "#df_movies = pd.read_csv(r'E:\\sabas\\Henry\\Proyecto1\\Dataset\\movies_dataset.csv', low_memory=False)"
   ]
  },
  {
   "cell_type": "code",
   "execution_count": 766,
   "metadata": {},
   "outputs": [
    {
     "data": {
      "text/html": [
       "<div>\n",
       "<style scoped>\n",
       "    .dataframe tbody tr th:only-of-type {\n",
       "        vertical-align: middle;\n",
       "    }\n",
       "\n",
       "    .dataframe tbody tr th {\n",
       "        vertical-align: top;\n",
       "    }\n",
       "\n",
       "    .dataframe thead th {\n",
       "        text-align: right;\n",
       "    }\n",
       "</style>\n",
       "<table border=\"1\" class=\"dataframe\">\n",
       "  <thead>\n",
       "    <tr style=\"text-align: right;\">\n",
       "      <th></th>\n",
       "      <th>adult</th>\n",
       "      <th>belongs_to_collection</th>\n",
       "      <th>budget</th>\n",
       "      <th>genres</th>\n",
       "      <th>homepage</th>\n",
       "      <th>id</th>\n",
       "      <th>imdb_id</th>\n",
       "      <th>original_language</th>\n",
       "      <th>original_title</th>\n",
       "      <th>overview</th>\n",
       "      <th>...</th>\n",
       "      <th>release_date</th>\n",
       "      <th>revenue</th>\n",
       "      <th>runtime</th>\n",
       "      <th>spoken_languages</th>\n",
       "      <th>status</th>\n",
       "      <th>tagline</th>\n",
       "      <th>title</th>\n",
       "      <th>video</th>\n",
       "      <th>vote_average</th>\n",
       "      <th>vote_count</th>\n",
       "    </tr>\n",
       "  </thead>\n",
       "  <tbody>\n",
       "    <tr>\n",
       "      <th>0</th>\n",
       "      <td>FALSE</td>\n",
       "      <td>{'id': 10194, 'name': 'Toy Story Collection', ...</td>\n",
       "      <td>30000000</td>\n",
       "      <td>[{'id': 16, 'name': 'Animation'}, {'id': 35, '...</td>\n",
       "      <td>http://toystory.disney.com/toy-story</td>\n",
       "      <td>862</td>\n",
       "      <td>tt0114709</td>\n",
       "      <td>en</td>\n",
       "      <td>Toy Story</td>\n",
       "      <td>Led by Woody, Andy's toys live happily in his ...</td>\n",
       "      <td>...</td>\n",
       "      <td>1995-10-30</td>\n",
       "      <td>373554033.0</td>\n",
       "      <td>81.0</td>\n",
       "      <td>[{'iso_639_1': 'en', 'name': 'English'}]</td>\n",
       "      <td>Released</td>\n",
       "      <td>NaN</td>\n",
       "      <td>Toy Story</td>\n",
       "      <td>False</td>\n",
       "      <td>7.7</td>\n",
       "      <td>5415.0</td>\n",
       "    </tr>\n",
       "  </tbody>\n",
       "</table>\n",
       "<p>1 rows × 24 columns</p>\n",
       "</div>"
      ],
      "text/plain": [
       "   adult                              belongs_to_collection    budget  \\\n",
       "0  FALSE  {'id': 10194, 'name': 'Toy Story Collection', ...  30000000   \n",
       "\n",
       "                                              genres  \\\n",
       "0  [{'id': 16, 'name': 'Animation'}, {'id': 35, '...   \n",
       "\n",
       "                               homepage   id    imdb_id original_language  \\\n",
       "0  http://toystory.disney.com/toy-story  862  tt0114709                en   \n",
       "\n",
       "  original_title                                           overview  ...  \\\n",
       "0      Toy Story  Led by Woody, Andy's toys live happily in his ...  ...   \n",
       "\n",
       "  release_date      revenue runtime                          spoken_languages  \\\n",
       "0   1995-10-30  373554033.0    81.0  [{'iso_639_1': 'en', 'name': 'English'}]   \n",
       "\n",
       "     status  tagline      title  video vote_average vote_count  \n",
       "0  Released      NaN  Toy Story  False          7.7     5415.0  \n",
       "\n",
       "[1 rows x 24 columns]"
      ]
     },
     "execution_count": 766,
     "metadata": {},
     "output_type": "execute_result"
    }
   ],
   "source": [
    "df_movies.head(1)\n"
   ]
  },
  {
   "cell_type": "code",
   "execution_count": 767,
   "metadata": {},
   "outputs": [
    {
     "data": {
      "text/plain": [
       "adult                     object\n",
       "belongs_to_collection     object\n",
       "budget                    object\n",
       "genres                    object\n",
       "homepage                  object\n",
       "id                        object\n",
       "imdb_id                   object\n",
       "original_language         object\n",
       "original_title            object\n",
       "overview                  object\n",
       "popularity                object\n",
       "poster_path               object\n",
       "production_companies      object\n",
       "production_countries      object\n",
       "release_date              object\n",
       "revenue                  float64\n",
       "runtime                  float64\n",
       "spoken_languages          object\n",
       "status                    object\n",
       "tagline                   object\n",
       "title                     object\n",
       "video                     object\n",
       "vote_average             float64\n",
       "vote_count               float64\n",
       "dtype: object"
      ]
     },
     "execution_count": 767,
     "metadata": {},
     "output_type": "execute_result"
    }
   ],
   "source": [
    "df_movies.dtypes"
   ]
  },
  {
   "cell_type": "markdown",
   "metadata": {},
   "source": [
    "## Limpieza de datos del dataset movies"
   ]
  },
  {
   "cell_type": "markdown",
   "metadata": {},
   "source": [
    "#### Función para limpiar los registros duplicados"
   ]
  },
  {
   "cell_type": "code",
   "execution_count": 768,
   "metadata": {},
   "outputs": [],
   "source": [
    "def clean_movie_data(df):\n",
    "   # Calcular la cantidad de filas duplicadas en el DataFrame\n",
    "    num_duplicate_rows = df.duplicated().sum()\n",
    "    print(f\"Filas duplicadas antes de la limpieza: {num_duplicate_rows}\")\n",
    "    \n",
    "   # Mostrar las filas duplicadas con todos sus duplicados\n",
    "    duplicate_rows_all = df[df.duplicated(keep=False)].sort_values(by=\"id\")\n",
    "    print(\"Filas duplicadas con todos sus duplicados:\")\n",
    "    print(duplicate_rows_all)\n",
    "\n",
    "    #  Eliminar las filas duplicadas, manteniendo la última ocurrencia\n",
    "    df.drop_duplicates(keep=\"last\", inplace=True)\n",
    "\n",
    "    #  Calcular la cantidad de valores duplicados en la columna \"id\"\n",
    "    num_duplicate_ids = df.id.duplicated().sum()\n",
    "    print(f\"Valores duplicados en la columna 'id' antes de la limpieza: {num_duplicate_ids}\")\n",
    "\n",
    "    #  Mostrar las filas con valores duplicados en la columna \"id\"\n",
    "    duplicate_ids_rows = df[df.id.duplicated(keep=False)].sort_values(by=\"id\")\n",
    "    print(\"Filas con valores duplicados en la columna 'id':\")\n",
    "    print(duplicate_ids_rows)\n",
    "\n",
    "    #  Eliminar las filas duplicadas en la columna \"id\", manteniendo la última ocurrencia\n",
    "    df.drop_duplicates(subset=\"id\", keep=\"last\", inplace=True)\n",
    "    \n",
    "    print(\"Limpieza de datos completada.\")\n",
    "    "
   ]
  },
  {
   "cell_type": "code",
   "execution_count": 769,
   "metadata": {
    "scrolled": true
   },
   "outputs": [
    {
     "name": "stdout",
     "output_type": "stream",
     "text": [
      "Filas duplicadas antes de la limpieza: 17\n",
      "Filas duplicadas con todos sus duplicados:\n",
      "       adult                              belongs_to_collection  budget  \\\n",
      "676    FALSE                                                NaN       0   \n",
      "1465   FALSE                                                NaN       0   \n",
      "14012  FALSE                                                NaN       0   \n",
      "24844  FALSE                                                NaN       0   \n",
      "19890  FALSE                                                NaN       0   \n",
      "21165  FALSE                                                NaN       0   \n",
      "13261  FALSE                                                NaN       0   \n",
      "13375  FALSE                                                NaN       0   \n",
      "16764  FALSE                                                NaN       0   \n",
      "19925  FALSE                                                NaN       0   \n",
      "21854  FALSE                                                NaN       0   \n",
      "13220  FALSE  {'id': 158365, 'name': 'Why We Fight', 'poster...       0   \n",
      "35798  FALSE  {'id': 158365, 'name': 'Why We Fight', 'poster...       0   \n",
      "28860  FALSE                                                NaN       0   \n",
      "13603  FALSE                                                NaN       0   \n",
      "14000  FALSE                                                NaN       0   \n",
      "22151  FALSE                                                NaN       0   \n",
      "8068   FALSE                                                NaN       0   \n",
      "9327   FALSE                                                NaN       0   \n",
      "23044  FALSE                                                NaN       0   \n",
      "17229  FALSE                                                NaN       0   \n",
      "24164  FALSE                                                NaN       0   \n",
      "45265  FALSE                                                NaN       0   \n",
      "33184  FALSE                                                NaN  980000   \n",
      "40040  FALSE                                                NaN  980000   \n",
      "15702  FALSE                                                NaN       0   \n",
      "29374  FALSE                                                NaN       0   \n",
      "9165   FALSE                                                NaN       0   \n",
      "7345   FALSE                                                NaN       0   \n",
      "13946  FALSE                                                NaN       0   \n",
      "40276  FALSE                                                NaN       0   \n",
      "16167  FALSE                                                NaN       0   \n",
      "38871  FALSE                                                NaN       0   \n",
      "\n",
      "                                                  genres  \\\n",
      "676    [{'id': 18, 'name': 'Drama'}, {'id': 10749, 'n...   \n",
      "1465   [{'id': 18, 'name': 'Drama'}, {'id': 10749, 'n...   \n",
      "14012  [{'id': 35, 'name': 'Comedy'}, {'id': 18, 'nam...   \n",
      "24844  [{'id': 35, 'name': 'Comedy'}, {'id': 18, 'nam...   \n",
      "19890  [{'id': 14, 'name': 'Fantasy'}, {'id': 18, 'na...   \n",
      "21165  [{'id': 14, 'name': 'Fantasy'}, {'id': 18, 'na...   \n",
      "13261  [{'id': 53, 'name': 'Thriller'}, {'id': 9648, ...   \n",
      "13375  [{'id': 53, 'name': 'Thriller'}, {'id': 9648, ...   \n",
      "16764  [{'id': 53, 'name': 'Thriller'}, {'id': 9648, ...   \n",
      "19925  [{'id': 18, 'name': 'Drama'}, {'id': 878, 'nam...   \n",
      "21854  [{'id': 18, 'name': 'Drama'}, {'id': 878, 'nam...   \n",
      "13220                [{'id': 99, 'name': 'Documentary'}]   \n",
      "35798                [{'id': 99, 'name': 'Documentary'}]   \n",
      "28860  [{'id': 18, 'name': 'Drama'}, {'id': 35, 'name...   \n",
      "13603  [{'id': 18, 'name': 'Drama'}, {'id': 35, 'name...   \n",
      "14000  [{'id': 28, 'name': 'Action'}, {'id': 27, 'nam...   \n",
      "22151  [{'id': 28, 'name': 'Action'}, {'id': 27, 'nam...   \n",
      "8068   [{'id': 12, 'name': 'Adventure'}, {'id': 16, '...   \n",
      "9327   [{'id': 12, 'name': 'Adventure'}, {'id': 16, '...   \n",
      "23044                      [{'id': 18, 'name': 'Drama'}]   \n",
      "17229                      [{'id': 18, 'name': 'Drama'}]   \n",
      "24164  [{'id': 35, 'name': 'Comedy'}, {'id': 18, 'nam...   \n",
      "45265  [{'id': 35, 'name': 'Comedy'}, {'id': 18, 'nam...   \n",
      "33184  [{'id': 18, 'name': 'Drama'}, {'id': 14, 'name...   \n",
      "40040  [{'id': 18, 'name': 'Drama'}, {'id': 14, 'name...   \n",
      "15702  [{'id': 18, 'name': 'Drama'}, {'id': 10769, 'n...   \n",
      "29374  [{'id': 18, 'name': 'Drama'}, {'id': 10769, 'n...   \n",
      "9165   [{'id': 80, 'name': 'Crime'}, {'id': 18, 'name...   \n",
      "7345   [{'id': 80, 'name': 'Crime'}, {'id': 18, 'name...   \n",
      "13946                     [{'id': 35, 'name': 'Comedy'}]   \n",
      "40276                     [{'id': 35, 'name': 'Comedy'}]   \n",
      "16167  [{'id': 28, 'name': 'Action'}, {'id': 18, 'nam...   \n",
      "38871  [{'id': 28, 'name': 'Action'}, {'id': 18, 'nam...   \n",
      "\n",
      "                                     homepage      id    imdb_id  \\\n",
      "676                                       NaN  105045  tt0111613   \n",
      "1465                                      NaN  105045  tt0111613   \n",
      "14012            http://www.dealthemovie.com/   11115  tt0446676   \n",
      "24844            http://www.dealthemovie.com/   11115  tt0446676   \n",
      "19890                                     NaN  119916  tt0080000   \n",
      "21165                                     NaN  119916  tt0080000   \n",
      "13261                                     NaN  141971  tt1180333   \n",
      "13375                                     NaN  141971  tt1180333   \n",
      "16764                                     NaN  141971  tt1180333   \n",
      "19925                                     NaN  152795  tt1821641   \n",
      "21854                                     NaN  152795  tt1821641   \n",
      "13220                                     NaN  159849  tt0173769   \n",
      "35798                                     NaN  159849  tt0173769   \n",
      "28860                                     NaN  168538  tt0084387   \n",
      "13603                                     NaN  168538  tt0084387   \n",
      "14000  http://www.daysofdarknessthemovie.com/   18440  tt0499456   \n",
      "22151  http://www.daysofdarknessthemovie.com/   18440  tt0499456   \n",
      "8068                                      NaN   23305  tt0295682   \n",
      "9327                                      NaN   23305  tt0295682   \n",
      "23044                                     NaN   25541  tt1327820   \n",
      "17229                                     NaN   25541  tt1327820   \n",
      "24164                                     NaN  265189  tt2121382   \n",
      "45265                                     NaN  265189  tt2121382   \n",
      "33184                                     NaN  298721  tt2818654   \n",
      "40040                                     NaN  298721  tt2818654   \n",
      "15702                                     NaN   42495  tt0067306   \n",
      "29374                                     NaN   42495  tt0067306   \n",
      "9165                                      NaN    5511  tt0062229   \n",
      "7345                                      NaN    5511  tt0062229   \n",
      "13946                                     NaN   97995  tt0127834   \n",
      "40276                                     NaN   97995  tt0127834   \n",
      "16167                                     NaN   99080  tt0022537   \n",
      "38871                                     NaN   99080  tt0022537   \n",
      "\n",
      "      original_language                    original_title  \\\n",
      "676                  de                   Das Versprechen   \n",
      "1465                 de                   Das Versprechen   \n",
      "14012                en                              Deal   \n",
      "24844                en                              Deal   \n",
      "19890                en                       The Tempest   \n",
      "21165                en                       The Tempest   \n",
      "13261                fi                          Blackout   \n",
      "13375                fi                          Blackout   \n",
      "16764                fi                          Blackout   \n",
      "19925                en                      The Congress   \n",
      "21854                en                      The Congress   \n",
      "13220                en  Why We Fight: Divide and Conquer   \n",
      "35798                en  Why We Fight: Divide and Conquer   \n",
      "28860                en                              Nana   \n",
      "13603                en                              Nana   \n",
      "14000                en                  Days of Darkness   \n",
      "22151                en                  Days of Darkness   \n",
      "8068                 en                       The Warrior   \n",
      "9327                 en                       The Warrior   \n",
      "23044                da                        Broderskab   \n",
      "17229                da                        Broderskab   \n",
      "24164                sv                            Turist   \n",
      "45265                sv                            Turist   \n",
      "33184                th                     รักที่ขอนแก่น   \n",
      "40040                th                     รักที่ขอนแก่น   \n",
      "15702                en                         King Lear   \n",
      "29374                en                         King Lear   \n",
      "9165                 fr                       Le Samouraï   \n",
      "7345                 fr                       Le Samouraï   \n",
      "13946                en              Seven Years Bad Luck   \n",
      "40276                en              Seven Years Bad Luck   \n",
      "16167                en                        The Viking   \n",
      "38871                en                        The Viking   \n",
      "\n",
      "                                                overview  ... release_date  \\\n",
      "676    East-Berlin, 1961, shortly after the erection ...  ...   1995-02-16   \n",
      "1465   East-Berlin, 1961, shortly after the erection ...  ...   1995-02-16   \n",
      "14012  As an ex-gambler teaches a hot-shot college ki...  ...   2008-01-29   \n",
      "24844  As an ex-gambler teaches a hot-shot college ki...  ...   2008-01-29   \n",
      "19890  Prospero, the true Duke of Milan is now living...  ...   1980-02-27   \n",
      "21165  Prospero, the true Duke of Milan is now living...  ...   1980-02-27   \n",
      "13261  Recovering from a nail gun shot to the head an...  ...   2008-12-26   \n",
      "13375  Recovering from a nail gun shot to the head an...  ...   2008-12-26   \n",
      "16764  Recovering from a nail gun shot to the head an...  ...   2008-12-26   \n",
      "19925  More than two decades after catapulting to sta...  ...   2013-05-16   \n",
      "21854  More than two decades after catapulting to sta...  ...   2013-05-16   \n",
      "13220  The third film of Frank Capra's 'Why We Fight\"...  ...   1943-01-01   \n",
      "35798  The third film of Frank Capra's 'Why We Fight\"...  ...   1943-01-01   \n",
      "28860  In Zola's Paris, an ingenue arrives at a tony ...  ...   1983-06-13   \n",
      "13603  In Zola's Paris, an ingenue arrives at a tony ...  ...   1983-06-13   \n",
      "14000  When a comet strikes Earth and kicks up a clou...  ...   2007-01-01   \n",
      "22151  When a comet strikes Earth and kicks up a clou...  ...   2007-01-01   \n",
      "8068   In feudal India, a warrior (Khan) who renounce...  ...   2001-09-23   \n",
      "9327   In feudal India, a warrior (Khan) who renounce...  ...   2001-09-23   \n",
      "23044  Former Danish servicemen Lars and Jimmy are th...  ...   2009-10-21   \n",
      "17229  Former Danish servicemen Lars and Jimmy are th...  ...   2009-10-21   \n",
      "24164  While holidaying in the French Alps, a Swedish...  ...   2014-08-15   \n",
      "45265  While holidaying in the French Alps, a Swedish...  ...   2014-08-15   \n",
      "33184  In a hospital, ten soldiers are being treated ...  ...   2015-09-02   \n",
      "40040  In a hospital, ten soldiers are being treated ...  ...   2015-09-02   \n",
      "15702  King Lear, old and tired, divides his kingdom ...  ...   1971-02-04   \n",
      "29374  King Lear, old and tired, divides his kingdom ...  ...   1971-02-04   \n",
      "9165   Hitman Jef Costello is a perfectionist who alw...  ...   1967-10-25   \n",
      "7345   Hitman Jef Costello is a perfectionist who alw...  ...   1967-10-25   \n",
      "13946  After breaking a mirror in his home, superstit...  ...   1921-02-06   \n",
      "40276  After breaking a mirror in his home, superstit...  ...   1921-02-06   \n",
      "16167  Originally called White Thunder, American prod...  ...   1931-06-21   \n",
      "38871  Originally called White Thunder, American prod...  ...   1931-06-21   \n",
      "\n",
      "         revenue runtime                                   spoken_languages  \\\n",
      "676          0.0   115.0           [{'iso_639_1': 'de', 'name': 'Deutsch'}]   \n",
      "1465         0.0   115.0           [{'iso_639_1': 'de', 'name': 'Deutsch'}]   \n",
      "14012        0.0    85.0           [{'iso_639_1': 'en', 'name': 'English'}]   \n",
      "24844        0.0    85.0           [{'iso_639_1': 'en', 'name': 'English'}]   \n",
      "19890        0.0   123.0                                                 []   \n",
      "21165        0.0   123.0                                                 []   \n",
      "13261        0.0   108.0             [{'iso_639_1': 'fi', 'name': 'suomi'}]   \n",
      "13375        0.0   108.0             [{'iso_639_1': 'fi', 'name': 'suomi'}]   \n",
      "16764        0.0   108.0             [{'iso_639_1': 'fi', 'name': 'suomi'}]   \n",
      "19925   455815.0   122.0           [{'iso_639_1': 'en', 'name': 'English'}]   \n",
      "21854   455815.0   122.0           [{'iso_639_1': 'en', 'name': 'English'}]   \n",
      "13220        0.0    57.0           [{'iso_639_1': 'en', 'name': 'English'}]   \n",
      "35798        0.0    57.0           [{'iso_639_1': 'en', 'name': 'English'}]   \n",
      "28860        0.0    92.0                                                 []   \n",
      "13603        0.0    92.0                                                 []   \n",
      "14000        0.0    89.0           [{'iso_639_1': 'en', 'name': 'English'}]   \n",
      "22151        0.0    89.0           [{'iso_639_1': 'en', 'name': 'English'}]   \n",
      "8068         0.0    86.0            [{'iso_639_1': 'hi', 'name': 'हिन्दी'}]   \n",
      "9327         0.0    86.0            [{'iso_639_1': 'hi', 'name': 'हिन्दी'}]   \n",
      "23044        0.0    90.0             [{'iso_639_1': 'da', 'name': 'Dansk'}]   \n",
      "17229        0.0    90.0             [{'iso_639_1': 'da', 'name': 'Dansk'}]   \n",
      "24164  1359497.0   118.0  [{'iso_639_1': 'fr', 'name': 'Français'}, {'is...   \n",
      "45265  1359497.0   118.0  [{'iso_639_1': 'fr', 'name': 'Français'}, {'is...   \n",
      "33184        0.0   122.0  [{'iso_639_1': 'en', 'name': 'English'}, {'iso...   \n",
      "40040        0.0   122.0  [{'iso_639_1': 'en', 'name': 'English'}, {'iso...   \n",
      "15702        0.0   137.0           [{'iso_639_1': 'en', 'name': 'English'}]   \n",
      "29374        0.0   137.0           [{'iso_639_1': 'en', 'name': 'English'}]   \n",
      "9165     39481.0   105.0          [{'iso_639_1': 'fr', 'name': 'Français'}]   \n",
      "7345     39481.0   105.0          [{'iso_639_1': 'fr', 'name': 'Français'}]   \n",
      "13946        0.0    62.0           [{'iso_639_1': 'en', 'name': 'English'}]   \n",
      "40276        0.0    62.0           [{'iso_639_1': 'en', 'name': 'English'}]   \n",
      "16167        0.0    70.0           [{'iso_639_1': 'en', 'name': 'English'}]   \n",
      "38871        0.0    70.0           [{'iso_639_1': 'en', 'name': 'English'}]   \n",
      "\n",
      "         status                                            tagline  \\\n",
      "676    Released                            A love, a hope, a wall.   \n",
      "1465   Released                            A love, a hope, a wall.   \n",
      "14012  Released                                                NaN   \n",
      "24844  Released                                                NaN   \n",
      "19890  Released                                                NaN   \n",
      "21165  Released                                                NaN   \n",
      "13261  Released  Which one is the first to return - memory or t...   \n",
      "13375  Released  Which one is the first to return - memory or t...   \n",
      "16764  Released  Which one is the first to return - memory or t...   \n",
      "19925  Released                                                NaN   \n",
      "21854  Released                                                NaN   \n",
      "13220  Released                                                NaN   \n",
      "35798  Released                                                NaN   \n",
      "28860  Released                                                NaN   \n",
      "13603  Released                                                NaN   \n",
      "14000  Released                                                NaN   \n",
      "22151  Released                                                NaN   \n",
      "8068   Released                                                NaN   \n",
      "9327   Released                                                NaN   \n",
      "23044  Released                                                NaN   \n",
      "17229  Released                                                NaN   \n",
      "24164  Released                                                NaN   \n",
      "45265  Released                                                NaN   \n",
      "33184  Released                                                NaN   \n",
      "40040  Released                                                NaN   \n",
      "15702   Rumored                                                NaN   \n",
      "29374   Rumored                                                NaN   \n",
      "9165   Released  There is no solitude greater than that of the ...   \n",
      "7345   Released  There is no solitude greater than that of the ...   \n",
      "13946  Released                                                NaN   \n",
      "40276  Released                                                NaN   \n",
      "16167  Released  Actually produced during the Great Newfoundlan...   \n",
      "38871  Released  Actually produced during the Great Newfoundlan...   \n",
      "\n",
      "                                  title  video vote_average vote_count  \n",
      "676                         The Promise  False          5.0        1.0  \n",
      "1465                        The Promise  False          5.0        1.0  \n",
      "14012                              Deal  False          5.2       22.0  \n",
      "24844                              Deal  False          5.2       22.0  \n",
      "19890                       The Tempest  False          0.0        0.0  \n",
      "21165                       The Tempest  False          0.0        0.0  \n",
      "13261                          Blackout  False          6.7        3.0  \n",
      "13375                          Blackout  False          6.7        3.0  \n",
      "16764                          Blackout  False          6.7        3.0  \n",
      "19925                      The Congress  False          6.4      165.0  \n",
      "21854                      The Congress  False          6.4      165.0  \n",
      "13220  Why We Fight: Divide and Conquer  False          5.0        1.0  \n",
      "35798  Why We Fight: Divide and Conquer  False          5.0        1.0  \n",
      "28860    Nana, the True Key of Pleasure  False          4.7        3.0  \n",
      "13603    Nana, the True Key of Pleasure  False          4.7        3.0  \n",
      "14000                  Days of Darkness  False          5.0        5.0  \n",
      "22151                  Days of Darkness  False          5.0        5.0  \n",
      "8068                        The Warrior  False          6.3       15.0  \n",
      "9327                        The Warrior  False          6.3       15.0  \n",
      "23044                       Brotherhood  False          7.1       21.0  \n",
      "17229                       Brotherhood  False          7.1       21.0  \n",
      "24164                     Force Majeure  False          6.8      255.0  \n",
      "45265                     Force Majeure  False          6.8      255.0  \n",
      "33184             Cemetery of Splendour  False          4.4       50.0  \n",
      "40040             Cemetery of Splendour  False          4.4       50.0  \n",
      "15702                         King Lear  False          8.0        3.0  \n",
      "29374                         King Lear  False          8.0        3.0  \n",
      "9165                        Le Samouraï  False          7.9      187.0  \n",
      "7345                        Le Samouraï  False          7.9      187.0  \n",
      "13946              Seven Years Bad Luck  False          5.6        4.0  \n",
      "40276              Seven Years Bad Luck  False          5.6        4.0  \n",
      "16167                        The Viking  False          0.0        0.0  \n",
      "38871                        The Viking  False          0.0        0.0  \n",
      "\n",
      "[33 rows x 24 columns]\n",
      "Valores duplicados en la columna 'id' antes de la limpieza: 13\n",
      "Filas con valores duplicados en la columna 'id':\n",
      "       adult                              belongs_to_collection    budget  \\\n",
      "4114   FALSE  {'id': 34055, 'name': 'Pokémon Collection', 'p...  16000000   \n",
      "44821  FALSE  {'id': 34055, 'name': 'Pokémon Collection', 'p...  16000000   \n",
      "20899  FALSE                                                NaN         0   \n",
      "5710   FALSE                                                NaN         0   \n",
      "23534  FALSE                                                NaN   3512454   \n",
      "4356   FALSE                                                NaN   3512454   \n",
      "44826  FALSE  {'id': 34055, 'name': 'Pokémon Collection', 'p...         0   \n",
      "5535   FALSE  {'id': 34055, 'name': 'Pokémon Collection', 'p...         0   \n",
      "15765  FALSE                                                NaN      2500   \n",
      "11342  FALSE                                                NaN      2500   \n",
      "30001  FALSE                                                NaN         0   \n",
      "838    FALSE                                                NaN         0   \n",
      "10419  FALSE                                                NaN   1600000   \n",
      "12066  FALSE                                                NaN   1600000   \n",
      "5130   FALSE                                                NaN  26000000   \n",
      "33743  FALSE                                                NaN  26000000   \n",
      "15074  FALSE                                                NaN         4   \n",
      "949    FALSE                                                NaN         4   \n",
      "5865   FALSE                                                NaN  30000000   \n",
      "33826  FALSE                                                NaN  30000000   \n",
      "26625  FALSE                                                NaN  10000000   \n",
      "9576   FALSE                                                NaN  10000000   \n",
      "11155  FALSE                                                NaN  40000000   \n",
      "20843  FALSE                                                NaN  40000000   \n",
      "2564   FALSE                                                NaN         0   \n",
      "21116  FALSE                                                NaN         0   \n",
      "\n",
      "                                                  genres  \\\n",
      "4114   [{'id': 12, 'name': 'Adventure'}, {'id': 14, '...   \n",
      "44821  [{'id': 12, 'name': 'Adventure'}, {'id': 14, '...   \n",
      "20899                      [{'id': 18, 'name': 'Drama'}]   \n",
      "5710                       [{'id': 18, 'name': 'Drama'}]   \n",
      "23534                      [{'id': 18, 'name': 'Drama'}]   \n",
      "4356                       [{'id': 18, 'name': 'Drama'}]   \n",
      "44826  [{'id': 12, 'name': 'Adventure'}, {'id': 14, '...   \n",
      "5535   [{'id': 12, 'name': 'Adventure'}, {'id': 14, '...   \n",
      "15765  [{'id': 18, 'name': 'Drama'}, {'id': 35, 'name...   \n",
      "11342  [{'id': 18, 'name': 'Drama'}, {'id': 35, 'name...   \n",
      "30001                      [{'id': 18, 'name': 'Drama'}]   \n",
      "838                        [{'id': 18, 'name': 'Drama'}]   \n",
      "10419  [{'id': 18, 'name': 'Drama'}, {'id': 80, 'name...   \n",
      "12066  [{'id': 18, 'name': 'Drama'}, {'id': 80, 'name...   \n",
      "5130   [{'id': 12, 'name': 'Adventure'}, {'id': 10751...   \n",
      "33743  [{'id': 12, 'name': 'Adventure'}, {'id': 10751...   \n",
      "15074  [{'id': 18, 'name': 'Drama'}, {'id': 10749, 'n...   \n",
      "949    [{'id': 18, 'name': 'Drama'}, {'id': 10749, 'n...   \n",
      "5865   [{'id': 35, 'name': 'Comedy'}, {'id': 80, 'nam...   \n",
      "33826  [{'id': 35, 'name': 'Comedy'}, {'id': 80, 'nam...   \n",
      "26625  [{'id': 18, 'name': 'Drama'}, {'id': 27, 'name...   \n",
      "9576   [{'id': 18, 'name': 'Drama'}, {'id': 27, 'name...   \n",
      "11155  [{'id': 12, 'name': 'Adventure'}, {'id': 18, '...   \n",
      "20843  [{'id': 12, 'name': 'Adventure'}, {'id': 18, '...   \n",
      "2564                 [{'id': 99, 'name': 'Documentary'}]   \n",
      "21116                [{'id': 99, 'name': 'Documentary'}]   \n",
      "\n",
      "                                                homepage      id    imdb_id  \\\n",
      "4114                   http://movies.warnerbros.com/pk3/   10991  tt0235679   \n",
      "44821                  http://movies.warnerbros.com/pk3/   10991  tt0235679   \n",
      "20899                                                NaN  109962  tt0082992   \n",
      "5710                                                 NaN  109962  tt0082992   \n",
      "23534                                                NaN  110428  tt2018086   \n",
      "4356                                                 NaN  110428  tt2018086   \n",
      "44826  http://www.pokemon.com/us/movies/movie-pokemon...   12600  tt0287635   \n",
      "5535   http://www.pokemon.com/us/movies/movie-pokemon...   12600  tt0287635   \n",
      "15765                                                NaN   13209  tt0499537   \n",
      "11342                                                NaN   13209  tt0499537   \n",
      "30001                                                NaN  132641  tt0046468   \n",
      "838                                                  NaN  132641  tt0046468   \n",
      "10419                      http://www.bubblethefilm.com/   14788  tt0454792   \n",
      "12066                      http://www.bubblethefilm.com/   14788  tt0454792   \n",
      "5130                                                 NaN   15028  tt0157472   \n",
      "33743                                                NaN   15028  tt0157472   \n",
      "15074                                                NaN   22649  tt0022879   \n",
      "949                                                  NaN   22649  tt0022879   \n",
      "5865                                                 NaN    4912  tt0270288   \n",
      "33826                                                NaN    4912  tt0270288   \n",
      "26625                                                NaN   69234  tt0100361   \n",
      "9576                                                 NaN   69234  tt0100361   \n",
      "11155                                                NaN   77221  tt1701210   \n",
      "20843                                                NaN   77221  tt1701210   \n",
      "2564                                                 NaN   84198  tt1736049   \n",
      "21116                                                NaN   84198  tt1736049   \n",
      "\n",
      "      original_language                   original_title  \\\n",
      "4114                 ja             Pokémon 3: The Movie   \n",
      "44821                ja             Pokémon 3: The Movie   \n",
      "20899                en                  Rich and Famous   \n",
      "5710                 en                  Rich and Famous   \n",
      "23534                fr             Camille Claudel 1915   \n",
      "4356                 fr             Camille Claudel 1915   \n",
      "44826                ja   劇場版ポケットモンスター セレビィ 時を越えた遭遇（であい）   \n",
      "5535                 ja   劇場版ポケットモンスター セレビィ 時を越えた遭遇（であい）   \n",
      "15765                fa                          Offside   \n",
      "11342                fa                          Offside   \n",
      "30001                ja                            Tsuma   \n",
      "838                  ja                            Tsuma   \n",
      "10419                en                           Bubble   \n",
      "12066                en                           Bubble   \n",
      "5130                 en                    Clockstoppers   \n",
      "33743                en                    Clockstoppers   \n",
      "15074                en               A Farewell to Arms   \n",
      "949                  en               A Farewell to Arms   \n",
      "5865                 en  Confessions of a Dangerous Mind   \n",
      "33826                en  Confessions of a Dangerous Mind   \n",
      "26625                en         The Phantom of the Opera   \n",
      "9576                 en         The Phantom of the Opera   \n",
      "11155                en                       Black Gold   \n",
      "20843                en                       Black Gold   \n",
      "2564                 en             A Place at the Table   \n",
      "21116                en             A Place at the Table   \n",
      "\n",
      "                                                overview  ... release_date  \\\n",
      "4114   When Molly Hale's sadness of her father's disa...  ...   2000-07-08   \n",
      "44821  When Molly Hale's sadness of her father's disa...  ...   2000-07-08   \n",
      "20899  Two literary women compete for 20 years: one w...  ...   1981-09-23   \n",
      "5710   Two literary women compete for 20 years: one w...  ...   1981-09-23   \n",
      "23534  Winter, 1915. Confined by her family to an asy...  ...   2013-03-13   \n",
      "4356   Winter, 1915. Confined by her family to an asy...  ...   2013-03-13   \n",
      "44826  All your favorite Pokémon characters are back,...  ...   2001-07-06   \n",
      "5535   All your favorite Pokémon characters are back,...  ...   2001-07-06   \n",
      "15765  Since women are banned from soccer matches, Ir...  ...   2006-05-26   \n",
      "11342  Since women are banned from soccer matches, Ir...  ...   2006-05-26   \n",
      "30001  Ten years into a marriage, the wife is disappo...  ...   1953-04-29   \n",
      "838    Ten years into a marriage, the wife is disappo...  ...   1953-04-29   \n",
      "10419  Set against the backdrop of a decaying Midwest...  ...   2005-09-03   \n",
      "12066  Set against the backdrop of a decaying Midwest...  ...   2005-09-03   \n",
      "5130   Until now, Zak Gibbs' greatest challenge has b...  ...   2002-03-17   \n",
      "33743  Until now, Zak Gibbs' greatest challenge has b...  ...   2002-03-17   \n",
      "15074  British nurse Catherine Barkley (Helen Hayes) ...  ...   1932-12-08   \n",
      "949    British nurse Catherine Barkley (Helen Hayes) ...  ...   1932-12-08   \n",
      "5865   Television made him famous, but his biggest hi...  ...   2002-12-30   \n",
      "33826  Television made him famous, but his biggest hi...  ...   2002-12-30   \n",
      "26625  Count de Chagnie has discovered Christine's si...  ...   1990-03-18   \n",
      "9576   Count de Chagnie has discovered Christine's si...  ...   1990-03-18   \n",
      "11155  On the Arabian Peninsula in the 1930s, two war...  ...   2011-12-21   \n",
      "20843  On the Arabian Peninsula in the 1930s, two war...  ...   2011-12-21   \n",
      "2564   Using personal stories, this powerful document...  ...   2012-03-22   \n",
      "21116  Using personal stories, this powerful document...  ...   2012-03-22   \n",
      "\n",
      "          revenue runtime                                   spoken_languages  \\\n",
      "4114   68411275.0    93.0           [{'iso_639_1': 'en', 'name': 'English'}]   \n",
      "44821  68411275.0    93.0           [{'iso_639_1': 'en', 'name': 'English'}]   \n",
      "20899         0.0   115.0           [{'iso_639_1': 'en', 'name': 'English'}]   \n",
      "5710          0.0   115.0           [{'iso_639_1': 'en', 'name': 'English'}]   \n",
      "23534    115860.0    95.0          [{'iso_639_1': 'fr', 'name': 'Français'}]   \n",
      "4356     115860.0    95.0          [{'iso_639_1': 'fr', 'name': 'Français'}]   \n",
      "44826  28023563.0    75.0               [{'iso_639_1': 'ja', 'name': '日本語'}]   \n",
      "5535   28023563.0    75.0               [{'iso_639_1': 'ja', 'name': '日本語'}]   \n",
      "15765         0.0    93.0             [{'iso_639_1': 'fa', 'name': 'فارسی'}]   \n",
      "11342         0.0    93.0             [{'iso_639_1': 'fa', 'name': 'فارسی'}]   \n",
      "30001         0.0    89.0               [{'iso_639_1': 'ja', 'name': '日本語'}]   \n",
      "838           0.0    89.0               [{'iso_639_1': 'ja', 'name': '日本語'}]   \n",
      "10419         0.0    73.0           [{'iso_639_1': 'en', 'name': 'English'}]   \n",
      "12066         0.0    73.0           [{'iso_639_1': 'en', 'name': 'English'}]   \n",
      "5130   38793283.0    94.0  [{'iso_639_1': 'cs', 'name': 'Český'}, {'iso_6...   \n",
      "33743  38793283.0    94.0  [{'iso_639_1': 'cs', 'name': 'Český'}, {'iso_6...   \n",
      "15074        25.0    89.0           [{'iso_639_1': 'en', 'name': 'English'}]   \n",
      "949          25.0    89.0           [{'iso_639_1': 'en', 'name': 'English'}]   \n",
      "5865   33013805.0   113.0           [{'iso_639_1': 'en', 'name': 'English'}]   \n",
      "33826  33013805.0   113.0           [{'iso_639_1': 'en', 'name': 'English'}]   \n",
      "26625         0.0   168.0  [{'iso_639_1': 'en', 'name': 'English'}, {'iso...   \n",
      "9576          0.0   168.0  [{'iso_639_1': 'en', 'name': 'English'}, {'iso...   \n",
      "11155   5446000.0   130.0           [{'iso_639_1': 'en', 'name': 'English'}]   \n",
      "20843   5446000.0   130.0           [{'iso_639_1': 'en', 'name': 'English'}]   \n",
      "2564          0.0    84.0           [{'iso_639_1': 'en', 'name': 'English'}]   \n",
      "21116         0.0    84.0           [{'iso_639_1': 'en', 'name': 'English'}]   \n",
      "\n",
      "         status                                            tagline  \\\n",
      "4114   Released                      Pokémon: Spell of the Unknown   \n",
      "44821  Released                      Pokémon: Spell of the Unknown   \n",
      "20899  Released  From the very beginning, they knew they'd be f...   \n",
      "5710   Released  From the very beginning, they knew they'd be f...   \n",
      "23534  Released                                                NaN   \n",
      "4356   Released                                                NaN   \n",
      "44826  Released                                                NaN   \n",
      "5535   Released                                                NaN   \n",
      "15765  Released                                                NaN   \n",
      "11342  Released                                                NaN   \n",
      "30001  Released                                                NaN   \n",
      "838    Released                                                NaN   \n",
      "10419  Released                                                NaN   \n",
      "12066  Released                                                NaN   \n",
      "5130   Released  The adventure of a lifetime, in a few mere sec...   \n",
      "33743  Released  The adventure of a lifetime, in a few mere sec...   \n",
      "15074  Released          Every woman who has loved will understand   \n",
      "949    Released          Every woman who has loved will understand   \n",
      "5865   Released            Some things are better left top secret.   \n",
      "33826  Released            Some things are better left top secret.   \n",
      "26625  Released                                                NaN   \n",
      "9576   Released                                                NaN   \n",
      "11155  Released                                                NaN   \n",
      "20843  Released                                                NaN   \n",
      "2564   Released                              One Nation. Underfed.   \n",
      "21116  Released                              One Nation. Underfed.   \n",
      "\n",
      "                                             title  video vote_average  \\\n",
      "4114                 Pokémon: Spell of the Unknown  False          6.0   \n",
      "44821                Pokémon: Spell of the Unknown  False          6.0   \n",
      "20899                              Rich and Famous  False          4.9   \n",
      "5710                               Rich and Famous  False          4.9   \n",
      "23534                         Camille Claudel 1915  False          7.0   \n",
      "4356                          Camille Claudel 1915  False          7.0   \n",
      "44826  Pokémon 4Ever: Celebi - Voice of the Forest  False          5.7   \n",
      "5535   Pokémon 4Ever: Celebi - Voice of the Forest  False          5.7   \n",
      "15765                                      Offside  False          6.7   \n",
      "11342                                      Offside  False          6.7   \n",
      "30001                                         Wife  False          0.0   \n",
      "838                                           Wife  False          0.0   \n",
      "10419                                       Bubble  False          6.4   \n",
      "12066                                       Bubble  False          6.4   \n",
      "5130                                 Clockstoppers  False          4.9   \n",
      "33743                                Clockstoppers  False          4.9   \n",
      "15074                           A Farewell to Arms  False          6.2   \n",
      "949                             A Farewell to Arms  False          6.2   \n",
      "5865               Confessions of a Dangerous Mind  False          6.6   \n",
      "33826              Confessions of a Dangerous Mind  False          6.6   \n",
      "26625                     The Phantom of the Opera  False          5.0   \n",
      "9576                      The Phantom of the Opera  False          5.0   \n",
      "11155                                   Black Gold  False          5.9   \n",
      "20843                                   Black Gold  False          5.9   \n",
      "2564                          A Place at the Table  False          6.9   \n",
      "21116                         A Place at the Table  False          6.9   \n",
      "\n",
      "      vote_count  \n",
      "4114       143.0  \n",
      "44821      144.0  \n",
      "20899        7.0  \n",
      "5710         7.0  \n",
      "23534       20.0  \n",
      "4356        20.0  \n",
      "44826       82.0  \n",
      "5535        82.0  \n",
      "15765       27.0  \n",
      "11342       27.0  \n",
      "30001        0.0  \n",
      "838          0.0  \n",
      "10419       36.0  \n",
      "12066       36.0  \n",
      "5130        89.0  \n",
      "33743       90.0  \n",
      "15074       29.0  \n",
      "949         29.0  \n",
      "5865       281.0  \n",
      "33826      281.0  \n",
      "26625        3.0  \n",
      "9576         3.0  \n",
      "11155       77.0  \n",
      "20843       77.0  \n",
      "2564         7.0  \n",
      "21116        7.0  \n",
      "\n",
      "[26 rows x 24 columns]\n",
      "Limpieza de datos completada.\n"
     ]
    }
   ],
   "source": [
    "clean_movie_data(df_movies)"
   ]
  },
  {
   "cell_type": "code",
   "execution_count": 770,
   "metadata": {},
   "outputs": [
    {
     "data": {
      "text/plain": [
       "adult                     object\n",
       "belongs_to_collection     object\n",
       "budget                    object\n",
       "genres                    object\n",
       "homepage                  object\n",
       "id                        object\n",
       "imdb_id                   object\n",
       "original_language         object\n",
       "original_title            object\n",
       "overview                  object\n",
       "popularity                object\n",
       "poster_path               object\n",
       "production_companies      object\n",
       "production_countries      object\n",
       "release_date              object\n",
       "revenue                  float64\n",
       "runtime                  float64\n",
       "spoken_languages          object\n",
       "status                    object\n",
       "tagline                   object\n",
       "title                     object\n",
       "video                     object\n",
       "vote_average             float64\n",
       "vote_count               float64\n",
       "dtype: object"
      ]
     },
     "execution_count": 770,
     "metadata": {},
     "output_type": "execute_result"
    }
   ],
   "source": [
    "df_movies.dtypes # Verificar el tipo de datos en cada columna"
   ]
  },
  {
   "cell_type": "markdown",
   "metadata": {},
   "source": [
    "#### Función para reorganizar los datos incorrectos del dataframe"
   ]
  },
  {
   "cell_type": "code",
   "execution_count": 771,
   "metadata": {},
   "outputs": [],
   "source": [
    "def reorganize_incorrect_values(df, column_name): # Función de reorganizacion de valores incorrectos\n",
    "    incorrect_values = df[pd.to_numeric(df[column_name], errors='coerce').isna()]\n",
    "    for n, i in enumerate(incorrect_values.index):\n",
    "        print(f\"Procesando fila {i}, iteración {n}\")\n",
    "        row = df.loc[i]  # guarda los datos del registro incorrecto\n",
    "        row2 = row.tolist()  # los pasa a una lista\n",
    "        df.loc[i] = row2[15:] + row2[:15]  # reordena los datos y los asigna nuevamente en el df original\n",
    "    print(\"Reorganización de valores incorrectos completada.\")\n",
    "\n"
   ]
  },
  {
   "cell_type": "code",
   "execution_count": 772,
   "metadata": {
    "scrolled": true
   },
   "outputs": [
    {
     "name": "stdout",
     "output_type": "stream",
     "text": [
      "Procesando fila 19730, iteración 0\n",
      "Procesando fila 29503, iteración 1\n",
      "Procesando fila 35587, iteración 2\n",
      "Reorganización de valores incorrectos completada.\n"
     ]
    }
   ],
   "source": [
    "reorganize_incorrect_values(df_movies, 'budget')"
   ]
  },
  {
   "cell_type": "code",
   "execution_count": 773,
   "metadata": {
    "scrolled": true
   },
   "outputs": [
    {
     "data": {
      "text/plain": [
       "adult                                                                  NaN\n",
       "belongs_to_collection                                                  NaN\n",
       "budget                                                                 NaN\n",
       "genres                                                                 NaN\n",
       "homepage                                                               NaN\n",
       "id                                                                     NaN\n",
       "imdb_id                                                                NaN\n",
       "original_language                                                      NaN\n",
       "original_title                                                         NaN\n",
       "overview                                                - Written by Ørnås\n",
       "popularity                                                          65.736\n",
       "poster_path                               /ff9qCepilowshEtG2GYWwzt2bs4.jpg\n",
       "production_companies     [{'name': 'Carousel Productions', 'id': 11176}...\n",
       "production_countries     [{'iso_3166_1': 'CA', 'name': 'Canada'}, {'iso...\n",
       "release_date                                                    1997-08-20\n",
       "revenue                                                                  0\n",
       "runtime                                                              104.0\n",
       "spoken_languages                  [{'iso_639_1': 'en', 'name': 'English'}]\n",
       "status                                                            Released\n",
       "tagline                                                                NaN\n",
       "title                                                         Midnight Man\n",
       "video                                                                FALSE\n",
       "vote_average                                                           6.0\n",
       "vote_count                                                               1\n",
       "Name: 19730, dtype: object"
      ]
     },
     "execution_count": 773,
     "metadata": {},
     "output_type": "execute_result"
    }
   ],
   "source": [
    "df_movies.loc[19730]"
   ]
  },
  {
   "cell_type": "code",
   "execution_count": 774,
   "metadata": {
    "scrolled": true
   },
   "outputs": [
    {
     "data": {
      "text/plain": [
       "adult                    object\n",
       "belongs_to_collection    object\n",
       "budget                   object\n",
       "genres                   object\n",
       "homepage                 object\n",
       "id                       object\n",
       "imdb_id                  object\n",
       "original_language        object\n",
       "original_title           object\n",
       "overview                 object\n",
       "popularity               object\n",
       "poster_path              object\n",
       "production_companies     object\n",
       "production_countries     object\n",
       "release_date             object\n",
       "revenue                  object\n",
       "runtime                  object\n",
       "spoken_languages         object\n",
       "status                   object\n",
       "tagline                  object\n",
       "title                    object\n",
       "video                    object\n",
       "vote_average             object\n",
       "vote_count               object\n",
       "dtype: object"
      ]
     },
     "execution_count": 774,
     "metadata": {},
     "output_type": "execute_result"
    }
   ],
   "source": [
    "df_movies.dtypes"
   ]
  },
  {
   "cell_type": "markdown",
   "metadata": {},
   "source": [
    "#### Función para convertir columnas al tipo de dato correcto"
   ]
  },
  {
   "cell_type": "code",
   "execution_count": 775,
   "metadata": {},
   "outputs": [
    {
     "name": "stdout",
     "output_type": "stream",
     "text": [
      "adult                            object\n",
      "belongs_to_collection            object\n",
      "budget                          float64\n",
      "genres                           object\n",
      "homepage                         object\n",
      "id                               object\n",
      "imdb_id                          object\n",
      "original_language                object\n",
      "original_title                   object\n",
      "overview                         object\n",
      "popularity                       object\n",
      "poster_path                      object\n",
      "production_companies             object\n",
      "production_countries             object\n",
      "release_date             datetime64[ns]\n",
      "revenue                         float64\n",
      "runtime                         float64\n",
      "spoken_languages                 object\n",
      "status                           object\n",
      "tagline                          object\n",
      "title                            object\n",
      "video                            object\n",
      "vote_average                    float64\n",
      "vote_count                      float64\n",
      "dtype: object\n",
      "0   1995-10-30\n",
      "1   1995-12-15\n",
      "2   1995-12-22\n",
      "3   1995-12-22\n",
      "4   1995-02-10\n",
      "Name: release_date, dtype: datetime64[ns]\n"
     ]
    }
   ],
   "source": [
    "def convert_column_data_types(dataframe, column_types):\n",
    "    for column_name, new_data_type in column_types.items():\n",
    "        if column_name in dataframe.columns:\n",
    "            dataframe[column_name] = dataframe[column_name].astype(new_data_type)\n",
    "    return dataframe\n",
    "\n",
    "column_data_types = {\n",
    "    'id':str,\n",
    "    'budget': float,\n",
    "    'revenue': float,\n",
    "    'runtime': float,\n",
    "    'vote_average': float,\n",
    "    'vote_count': float,\n",
    "    'release_date': 'datetime64[ns]',  # Convert to datetime\n",
    "}\n",
    "\n",
    "df_movies = convert_column_data_types(df_movies, column_data_types)\n",
    "print(df_movies.dtypes)\n",
    "print(df_movies['release_date'].head())\n",
    "\n"
   ]
  },
  {
   "cell_type": "markdown",
   "metadata": {},
   "source": [
    "### Eliminacion de nulos en revenue, budget y datos faltantes release_date"
   ]
  },
  {
   "cell_type": "code",
   "execution_count": 776,
   "metadata": {},
   "outputs": [
    {
     "data": {
      "text/plain": [
       "adult                        3\n",
       "belongs_to_collection    40948\n",
       "budget                       3\n",
       "genres                       3\n",
       "homepage                 37662\n",
       "id                           0\n",
       "imdb_id                     20\n",
       "original_language           14\n",
       "original_title               3\n",
       "overview                   959\n",
       "popularity                   3\n",
       "poster_path                386\n",
       "production_companies         3\n",
       "production_countries         3\n",
       "release_date                87\n",
       "revenue                      3\n",
       "runtime                    260\n",
       "spoken_languages             3\n",
       "status                      84\n",
       "tagline                  25035\n",
       "title                        3\n",
       "video                        3\n",
       "vote_average                 3\n",
       "vote_count                   3\n",
       "dtype: int64"
      ]
     },
     "execution_count": 776,
     "metadata": {},
     "output_type": "execute_result"
    }
   ],
   "source": [
    "df_movies.isna().sum() # primero revisamos los faltantes"
   ]
  },
  {
   "cell_type": "markdown",
   "metadata": {},
   "source": [
    "##### Sustituimos por cero los nulos en revenue"
   ]
  },
  {
   "cell_type": "code",
   "execution_count": 777,
   "metadata": {},
   "outputs": [],
   "source": [
    "df_movies.revenue.fillna(value = 0, inplace=True)"
   ]
  },
  {
   "cell_type": "markdown",
   "metadata": {},
   "source": [
    "##### Eliminamos los registros que no tienen fecha en release_datez"
   ]
  },
  {
   "cell_type": "code",
   "execution_count": 778,
   "metadata": {},
   "outputs": [],
   "source": [
    "df_movies.dropna(axis=0, subset=\"release_date\", inplace=True) "
   ]
  },
  {
   "cell_type": "markdown",
   "metadata": {},
   "source": [
    "##### Eliminamos los registros que no tienen id"
   ]
  },
  {
   "cell_type": "code",
   "execution_count": 779,
   "metadata": {},
   "outputs": [],
   "source": [
    "df_movies.dropna(axis=0, subset=\"id\", inplace=True)"
   ]
  },
  {
   "cell_type": "markdown",
   "metadata": {},
   "source": [
    "##### Verificamos los cambios"
   ]
  },
  {
   "cell_type": "code",
   "execution_count": 780,
   "metadata": {},
   "outputs": [
    {
     "data": {
      "text/plain": [
       "adult                        3\n",
       "belongs_to_collection    40864\n",
       "budget                       3\n",
       "genres                       3\n",
       "homepage                 37588\n",
       "id                           0\n",
       "imdb_id                     17\n",
       "original_language           14\n",
       "original_title               3\n",
       "overview                   946\n",
       "popularity                   0\n",
       "poster_path                339\n",
       "production_companies         0\n",
       "production_countries         0\n",
       "release_date                 0\n",
       "revenue                      0\n",
       "runtime                    246\n",
       "spoken_languages             0\n",
       "status                      80\n",
       "tagline                  24962\n",
       "title                        0\n",
       "video                        0\n",
       "vote_average                 0\n",
       "vote_count                   0\n",
       "dtype: int64"
      ]
     },
     "execution_count": 780,
     "metadata": {},
     "output_type": "execute_result"
    }
   ],
   "source": [
    "df_movies.isna().sum() "
   ]
  },
  {
   "cell_type": "markdown",
   "metadata": {},
   "source": [
    "## Desanidar datos"
   ]
  },
  {
   "cell_type": "code",
   "execution_count": 781,
   "metadata": {},
   "outputs": [],
   "source": [
    "def parse_and_unnest(dataframe, columna):\n",
    "    def format_data(data):\n",
    "        if pd.isna(data):\n",
    "            return None\n",
    "        else:\n",
    "            try:\n",
    "                return json.loads(data.replace(\"'\", '\"'))\n",
    "            except:\n",
    "                return None\n",
    "    \n",
    "    # Aplica la función de formateo y guardar en una nueva columna\n",
    "    new_column_name = f'{columna}_parsed'\n",
    "    dataframe[new_column_name] = dataframe[columna].apply(format_data)\n",
    "    \n",
    "    # Utilizar pd.json_normalize() para desanidar los datos y crear un nuevo DataFrame\n",
    "    df_desanidado = pd.json_normalize(dataframe[new_column_name])\n",
    "    \n",
    "    # Agregar un prefijo a las columnas para diferenciarlas en el join\n",
    "    df_desanidado = df_desanidado.add_prefix(f'{columna}_')\n",
    "    \n",
    "    # Combinar el nuevo DataFrame desanidado con el DataFrame original utilizando el método join()\n",
    "    dataframe = dataframe.join(df_desanidado, rsuffix=f'_{columna}')\n",
    "    \n",
    "    return dataframe\n"
   ]
  },
  {
   "cell_type": "markdown",
   "metadata": {},
   "source": [
    "#### Desanidado de belongs_to_collection"
   ]
  },
  {
   "cell_type": "code",
   "execution_count": 782,
   "metadata": {},
   "outputs": [],
   "source": [
    "df_movies = pd.DataFrame(df_movies)\n",
    "df_movies = parse_and_unnest(df_movies, 'belongs_to_collection')\n"
   ]
  },
  {
   "cell_type": "code",
   "execution_count": 783,
   "metadata": {},
   "outputs": [
    {
     "data": {
      "text/plain": [
       "(45349, 29)"
      ]
     },
     "execution_count": 783,
     "metadata": {},
     "output_type": "execute_result"
    }
   ],
   "source": [
    "df_movies.shape"
   ]
  },
  {
   "cell_type": "code",
   "execution_count": 784,
   "metadata": {},
   "outputs": [
    {
     "data": {
      "text/html": [
       "<div>\n",
       "<style scoped>\n",
       "    .dataframe tbody tr th:only-of-type {\n",
       "        vertical-align: middle;\n",
       "    }\n",
       "\n",
       "    .dataframe tbody tr th {\n",
       "        vertical-align: top;\n",
       "    }\n",
       "\n",
       "    .dataframe thead th {\n",
       "        text-align: right;\n",
       "    }\n",
       "</style>\n",
       "<table border=\"1\" class=\"dataframe\">\n",
       "  <thead>\n",
       "    <tr style=\"text-align: right;\">\n",
       "      <th></th>\n",
       "      <th>adult</th>\n",
       "      <th>belongs_to_collection</th>\n",
       "      <th>budget</th>\n",
       "      <th>genres</th>\n",
       "      <th>homepage</th>\n",
       "      <th>id</th>\n",
       "      <th>imdb_id</th>\n",
       "      <th>original_language</th>\n",
       "      <th>original_title</th>\n",
       "      <th>overview</th>\n",
       "      <th>...</th>\n",
       "      <th>tagline</th>\n",
       "      <th>title</th>\n",
       "      <th>video</th>\n",
       "      <th>vote_average</th>\n",
       "      <th>vote_count</th>\n",
       "      <th>belongs_to_collection_parsed</th>\n",
       "      <th>belongs_to_collection_id</th>\n",
       "      <th>belongs_to_collection_name</th>\n",
       "      <th>belongs_to_collection_poster_path</th>\n",
       "      <th>belongs_to_collection_backdrop_path</th>\n",
       "    </tr>\n",
       "  </thead>\n",
       "  <tbody>\n",
       "    <tr>\n",
       "      <th>0</th>\n",
       "      <td>FALSE</td>\n",
       "      <td>{'id': 10194, 'name': 'Toy Story Collection', ...</td>\n",
       "      <td>30000000.0</td>\n",
       "      <td>[{'id': 16, 'name': 'Animation'}, {'id': 35, '...</td>\n",
       "      <td>http://toystory.disney.com/toy-story</td>\n",
       "      <td>862</td>\n",
       "      <td>tt0114709</td>\n",
       "      <td>en</td>\n",
       "      <td>Toy Story</td>\n",
       "      <td>Led by Woody, Andy's toys live happily in his ...</td>\n",
       "      <td>...</td>\n",
       "      <td>NaN</td>\n",
       "      <td>Toy Story</td>\n",
       "      <td>False</td>\n",
       "      <td>7.7</td>\n",
       "      <td>5415.0</td>\n",
       "      <td>{'id': 10194, 'name': 'Toy Story Collection', ...</td>\n",
       "      <td>10194.0</td>\n",
       "      <td>Toy Story Collection</td>\n",
       "      <td>/7G9915LfUQ2lVfwMEEhDsn3kT4B.jpg</td>\n",
       "      <td>/9FBwqcd9IRruEDUrTdcaafOMKUq.jpg</td>\n",
       "    </tr>\n",
       "  </tbody>\n",
       "</table>\n",
       "<p>1 rows × 29 columns</p>\n",
       "</div>"
      ],
      "text/plain": [
       "   adult                              belongs_to_collection      budget  \\\n",
       "0  FALSE  {'id': 10194, 'name': 'Toy Story Collection', ...  30000000.0   \n",
       "\n",
       "                                              genres  \\\n",
       "0  [{'id': 16, 'name': 'Animation'}, {'id': 35, '...   \n",
       "\n",
       "                               homepage   id    imdb_id original_language  \\\n",
       "0  http://toystory.disney.com/toy-story  862  tt0114709                en   \n",
       "\n",
       "  original_title                                           overview  ...  \\\n",
       "0      Toy Story  Led by Woody, Andy's toys live happily in his ...  ...   \n",
       "\n",
       "  tagline      title  video vote_average vote_count  \\\n",
       "0     NaN  Toy Story  False          7.7     5415.0   \n",
       "\n",
       "                        belongs_to_collection_parsed  \\\n",
       "0  {'id': 10194, 'name': 'Toy Story Collection', ...   \n",
       "\n",
       "   belongs_to_collection_id belongs_to_collection_name  \\\n",
       "0                   10194.0       Toy Story Collection   \n",
       "\n",
       "  belongs_to_collection_poster_path belongs_to_collection_backdrop_path  \n",
       "0  /7G9915LfUQ2lVfwMEEhDsn3kT4B.jpg    /9FBwqcd9IRruEDUrTdcaafOMKUq.jpg  \n",
       "\n",
       "[1 rows x 29 columns]"
      ]
     },
     "execution_count": 784,
     "metadata": {},
     "output_type": "execute_result"
    }
   ],
   "source": [
    "df_movies.head(1)"
   ]
  },
  {
   "cell_type": "code",
   "execution_count": 785,
   "metadata": {},
   "outputs": [
    {
     "data": {
      "text/plain": [
       "0        {'id': 10194, 'name': 'Toy Story Collection', ...\n",
       "1                                                      NaN\n",
       "2        {'id': 119050, 'name': 'Grumpy Old Men Collect...\n",
       "3                                                      NaN\n",
       "4        {'id': 96871, 'name': 'Father of the Bride Col...\n",
       "                               ...                        \n",
       "45460                                                  NaN\n",
       "45462                                                  NaN\n",
       "45463                                                  NaN\n",
       "45464                                                  NaN\n",
       "45465                                                  NaN\n",
       "Name: belongs_to_collection, Length: 45349, dtype: object"
      ]
     },
     "execution_count": 785,
     "metadata": {},
     "output_type": "execute_result"
    }
   ],
   "source": [
    "df_movies['belongs_to_collection']"
   ]
  },
  {
   "cell_type": "markdown",
   "metadata": {},
   "source": [
    "#### Eliminamos las columnas que no vamos a utilizar de la columna 'belongs_to_collection'"
   ]
  },
  {
   "cell_type": "code",
   "execution_count": 786,
   "metadata": {},
   "outputs": [],
   "source": [
    "columns_to_drop = [\"belongs_to_collection_parsed\", \"belongs_to_collection_poster_path\", \"belongs_to_collection_backdrop_path\"]\n",
    "df_movies.drop(labels=columns_to_drop, axis=1, inplace=True)\n"
   ]
  },
  {
   "cell_type": "code",
   "execution_count": 787,
   "metadata": {},
   "outputs": [
    {
     "data": {
      "text/html": [
       "<div>\n",
       "<style scoped>\n",
       "    .dataframe tbody tr th:only-of-type {\n",
       "        vertical-align: middle;\n",
       "    }\n",
       "\n",
       "    .dataframe tbody tr th {\n",
       "        vertical-align: top;\n",
       "    }\n",
       "\n",
       "    .dataframe thead th {\n",
       "        text-align: right;\n",
       "    }\n",
       "</style>\n",
       "<table border=\"1\" class=\"dataframe\">\n",
       "  <thead>\n",
       "    <tr style=\"text-align: right;\">\n",
       "      <th></th>\n",
       "      <th>adult</th>\n",
       "      <th>belongs_to_collection</th>\n",
       "      <th>budget</th>\n",
       "      <th>genres</th>\n",
       "      <th>homepage</th>\n",
       "      <th>id</th>\n",
       "      <th>imdb_id</th>\n",
       "      <th>original_language</th>\n",
       "      <th>original_title</th>\n",
       "      <th>overview</th>\n",
       "      <th>...</th>\n",
       "      <th>runtime</th>\n",
       "      <th>spoken_languages</th>\n",
       "      <th>status</th>\n",
       "      <th>tagline</th>\n",
       "      <th>title</th>\n",
       "      <th>video</th>\n",
       "      <th>vote_average</th>\n",
       "      <th>vote_count</th>\n",
       "      <th>belongs_to_collection_id</th>\n",
       "      <th>belongs_to_collection_name</th>\n",
       "    </tr>\n",
       "  </thead>\n",
       "  <tbody>\n",
       "    <tr>\n",
       "      <th>0</th>\n",
       "      <td>FALSE</td>\n",
       "      <td>{'id': 10194, 'name': 'Toy Story Collection', ...</td>\n",
       "      <td>30000000.0</td>\n",
       "      <td>[{'id': 16, 'name': 'Animation'}, {'id': 35, '...</td>\n",
       "      <td>http://toystory.disney.com/toy-story</td>\n",
       "      <td>862</td>\n",
       "      <td>tt0114709</td>\n",
       "      <td>en</td>\n",
       "      <td>Toy Story</td>\n",
       "      <td>Led by Woody, Andy's toys live happily in his ...</td>\n",
       "      <td>...</td>\n",
       "      <td>81.0</td>\n",
       "      <td>[{'iso_639_1': 'en', 'name': 'English'}]</td>\n",
       "      <td>Released</td>\n",
       "      <td>NaN</td>\n",
       "      <td>Toy Story</td>\n",
       "      <td>False</td>\n",
       "      <td>7.7</td>\n",
       "      <td>5415.0</td>\n",
       "      <td>10194.0</td>\n",
       "      <td>Toy Story Collection</td>\n",
       "    </tr>\n",
       "  </tbody>\n",
       "</table>\n",
       "<p>1 rows × 26 columns</p>\n",
       "</div>"
      ],
      "text/plain": [
       "   adult                              belongs_to_collection      budget  \\\n",
       "0  FALSE  {'id': 10194, 'name': 'Toy Story Collection', ...  30000000.0   \n",
       "\n",
       "                                              genres  \\\n",
       "0  [{'id': 16, 'name': 'Animation'}, {'id': 35, '...   \n",
       "\n",
       "                               homepage   id    imdb_id original_language  \\\n",
       "0  http://toystory.disney.com/toy-story  862  tt0114709                en   \n",
       "\n",
       "  original_title                                           overview  ...  \\\n",
       "0      Toy Story  Led by Woody, Andy's toys live happily in his ...  ...   \n",
       "\n",
       "  runtime                          spoken_languages    status tagline  \\\n",
       "0    81.0  [{'iso_639_1': 'en', 'name': 'English'}]  Released     NaN   \n",
       "\n",
       "       title  video  vote_average vote_count belongs_to_collection_id  \\\n",
       "0  Toy Story  False           7.7     5415.0                  10194.0   \n",
       "\n",
       "  belongs_to_collection_name  \n",
       "0       Toy Story Collection  \n",
       "\n",
       "[1 rows x 26 columns]"
      ]
     },
     "execution_count": 787,
     "metadata": {},
     "output_type": "execute_result"
    }
   ],
   "source": [
    "df_movies.head(1)"
   ]
  },
  {
   "cell_type": "markdown",
   "metadata": {},
   "source": [
    "#### Desanidado de 'production_companies'"
   ]
  },
  {
   "cell_type": "code",
   "execution_count": 788,
   "metadata": {},
   "outputs": [],
   "source": [
    "def extract_names_from_column(languages):\n",
    "    if pd.isnull(languages):\n",
    "        return pd.NA\n",
    "    try:\n",
    "        languages_list = eval(languages)\n",
    "        language_names = [lang['name'] for lang in languages_list]\n",
    "        return \", \".join(language_names)\n",
    "    except (ValueError, TypeError):\n",
    "        return pd.NA"
   ]
  },
  {
   "cell_type": "code",
   "execution_count": 789,
   "metadata": {},
   "outputs": [],
   "source": [
    "df_movies['production_companies'] = df_movies['production_companies'].apply(extract_names_from_column)"
   ]
  },
  {
   "cell_type": "markdown",
   "metadata": {},
   "source": [
    "### Hacemos lo mismo con production countries, spoken lenguages y genres"
   ]
  },
  {
   "cell_type": "markdown",
   "metadata": {},
   "source": [
    "#### Columna production_countries"
   ]
  },
  {
   "cell_type": "code",
   "execution_count": 790,
   "metadata": {},
   "outputs": [],
   "source": [
    "df_movies['production_countries'] = df_movies['production_countries'].apply(extract_names_from_column)"
   ]
  },
  {
   "cell_type": "markdown",
   "metadata": {},
   "source": [
    "#### Columna spoken_languages"
   ]
  },
  {
   "cell_type": "code",
   "execution_count": 791,
   "metadata": {},
   "outputs": [],
   "source": [
    "df_movies['spoken_languages'] = df_movies['spoken_languages'].apply(extract_names_from_column)"
   ]
  },
  {
   "cell_type": "markdown",
   "metadata": {},
   "source": [
    "#### Columna Genres"
   ]
  },
  {
   "cell_type": "code",
   "execution_count": 792,
   "metadata": {
    "scrolled": true
   },
   "outputs": [],
   "source": [
    "df_movies['genres'] = df_movies['genres'].apply(extract_names_from_column)"
   ]
  },
  {
   "cell_type": "code",
   "execution_count": 793,
   "metadata": {},
   "outputs": [
    {
     "data": {
      "text/html": [
       "<div>\n",
       "<style scoped>\n",
       "    .dataframe tbody tr th:only-of-type {\n",
       "        vertical-align: middle;\n",
       "    }\n",
       "\n",
       "    .dataframe tbody tr th {\n",
       "        vertical-align: top;\n",
       "    }\n",
       "\n",
       "    .dataframe thead th {\n",
       "        text-align: right;\n",
       "    }\n",
       "</style>\n",
       "<table border=\"1\" class=\"dataframe\">\n",
       "  <thead>\n",
       "    <tr style=\"text-align: right;\">\n",
       "      <th></th>\n",
       "      <th>adult</th>\n",
       "      <th>belongs_to_collection</th>\n",
       "      <th>budget</th>\n",
       "      <th>genres</th>\n",
       "      <th>homepage</th>\n",
       "      <th>id</th>\n",
       "      <th>imdb_id</th>\n",
       "      <th>original_language</th>\n",
       "      <th>original_title</th>\n",
       "      <th>overview</th>\n",
       "      <th>...</th>\n",
       "      <th>runtime</th>\n",
       "      <th>spoken_languages</th>\n",
       "      <th>status</th>\n",
       "      <th>tagline</th>\n",
       "      <th>title</th>\n",
       "      <th>video</th>\n",
       "      <th>vote_average</th>\n",
       "      <th>vote_count</th>\n",
       "      <th>belongs_to_collection_id</th>\n",
       "      <th>belongs_to_collection_name</th>\n",
       "    </tr>\n",
       "  </thead>\n",
       "  <tbody>\n",
       "    <tr>\n",
       "      <th>0</th>\n",
       "      <td>FALSE</td>\n",
       "      <td>{'id': 10194, 'name': 'Toy Story Collection', ...</td>\n",
       "      <td>30000000.0</td>\n",
       "      <td>Animation, Comedy, Family</td>\n",
       "      <td>http://toystory.disney.com/toy-story</td>\n",
       "      <td>862</td>\n",
       "      <td>tt0114709</td>\n",
       "      <td>en</td>\n",
       "      <td>Toy Story</td>\n",
       "      <td>Led by Woody, Andy's toys live happily in his ...</td>\n",
       "      <td>...</td>\n",
       "      <td>81.0</td>\n",
       "      <td>English</td>\n",
       "      <td>Released</td>\n",
       "      <td>NaN</td>\n",
       "      <td>Toy Story</td>\n",
       "      <td>False</td>\n",
       "      <td>7.7</td>\n",
       "      <td>5415.0</td>\n",
       "      <td>10194.0</td>\n",
       "      <td>Toy Story Collection</td>\n",
       "    </tr>\n",
       "    <tr>\n",
       "      <th>1</th>\n",
       "      <td>FALSE</td>\n",
       "      <td>NaN</td>\n",
       "      <td>65000000.0</td>\n",
       "      <td>Adventure, Fantasy, Family</td>\n",
       "      <td>NaN</td>\n",
       "      <td>8844</td>\n",
       "      <td>tt0113497</td>\n",
       "      <td>en</td>\n",
       "      <td>Jumanji</td>\n",
       "      <td>When siblings Judy and Peter discover an encha...</td>\n",
       "      <td>...</td>\n",
       "      <td>104.0</td>\n",
       "      <td>English, Français</td>\n",
       "      <td>Released</td>\n",
       "      <td>Roll the dice and unleash the excitement!</td>\n",
       "      <td>Jumanji</td>\n",
       "      <td>False</td>\n",
       "      <td>6.9</td>\n",
       "      <td>2413.0</td>\n",
       "      <td>NaN</td>\n",
       "      <td>NaN</td>\n",
       "    </tr>\n",
       "    <tr>\n",
       "      <th>2</th>\n",
       "      <td>FALSE</td>\n",
       "      <td>{'id': 119050, 'name': 'Grumpy Old Men Collect...</td>\n",
       "      <td>0.0</td>\n",
       "      <td>Romance, Comedy</td>\n",
       "      <td>NaN</td>\n",
       "      <td>15602</td>\n",
       "      <td>tt0113228</td>\n",
       "      <td>en</td>\n",
       "      <td>Grumpier Old Men</td>\n",
       "      <td>A family wedding reignites the ancient feud be...</td>\n",
       "      <td>...</td>\n",
       "      <td>101.0</td>\n",
       "      <td>English</td>\n",
       "      <td>Released</td>\n",
       "      <td>Still Yelling. Still Fighting. Still Ready for...</td>\n",
       "      <td>Grumpier Old Men</td>\n",
       "      <td>False</td>\n",
       "      <td>6.5</td>\n",
       "      <td>92.0</td>\n",
       "      <td>119050.0</td>\n",
       "      <td>Grumpy Old Men Collection</td>\n",
       "    </tr>\n",
       "  </tbody>\n",
       "</table>\n",
       "<p>3 rows × 26 columns</p>\n",
       "</div>"
      ],
      "text/plain": [
       "   adult                              belongs_to_collection      budget  \\\n",
       "0  FALSE  {'id': 10194, 'name': 'Toy Story Collection', ...  30000000.0   \n",
       "1  FALSE                                                NaN  65000000.0   \n",
       "2  FALSE  {'id': 119050, 'name': 'Grumpy Old Men Collect...         0.0   \n",
       "\n",
       "                       genres                              homepage     id  \\\n",
       "0   Animation, Comedy, Family  http://toystory.disney.com/toy-story    862   \n",
       "1  Adventure, Fantasy, Family                                   NaN   8844   \n",
       "2             Romance, Comedy                                   NaN  15602   \n",
       "\n",
       "     imdb_id original_language    original_title  \\\n",
       "0  tt0114709                en         Toy Story   \n",
       "1  tt0113497                en           Jumanji   \n",
       "2  tt0113228                en  Grumpier Old Men   \n",
       "\n",
       "                                            overview  ... runtime  \\\n",
       "0  Led by Woody, Andy's toys live happily in his ...  ...    81.0   \n",
       "1  When siblings Judy and Peter discover an encha...  ...   104.0   \n",
       "2  A family wedding reignites the ancient feud be...  ...   101.0   \n",
       "\n",
       "    spoken_languages    status  \\\n",
       "0            English  Released   \n",
       "1  English, Français  Released   \n",
       "2            English  Released   \n",
       "\n",
       "                                             tagline             title  video  \\\n",
       "0                                                NaN         Toy Story  False   \n",
       "1          Roll the dice and unleash the excitement!           Jumanji  False   \n",
       "2  Still Yelling. Still Fighting. Still Ready for...  Grumpier Old Men  False   \n",
       "\n",
       "   vote_average vote_count belongs_to_collection_id belongs_to_collection_name  \n",
       "0           7.7     5415.0                  10194.0       Toy Story Collection  \n",
       "1           6.9     2413.0                      NaN                        NaN  \n",
       "2           6.5       92.0                 119050.0  Grumpy Old Men Collection  \n",
       "\n",
       "[3 rows x 26 columns]"
      ]
     },
     "execution_count": 793,
     "metadata": {},
     "output_type": "execute_result"
    }
   ],
   "source": [
    "df_movies.head(3)"
   ]
  },
  {
   "cell_type": "markdown",
   "metadata": {},
   "source": [
    "#    Eliminacion de columnas \n",
    "###   video, imdb_id, adult, original, title, poster_path, homepage"
   ]
  },
  {
   "cell_type": "code",
   "execution_count": 794,
   "metadata": {},
   "outputs": [
    {
     "data": {
      "text/plain": [
       "(45349, 26)"
      ]
     },
     "execution_count": 794,
     "metadata": {},
     "output_type": "execute_result"
    }
   ],
   "source": [
    "df_movies.shape # verificadmos la cantidad de columnas antes del drop"
   ]
  },
  {
   "cell_type": "code",
   "execution_count": 795,
   "metadata": {
    "scrolled": true
   },
   "outputs": [],
   "source": [
    "df_movies.drop(labels=[\"video\",\"imdb_id\",\"adult\",\"original_title\",\"poster_path\", \"homepage\"], inplace=True, axis=1)"
   ]
  },
  {
   "cell_type": "code",
   "execution_count": 796,
   "metadata": {},
   "outputs": [
    {
     "data": {
      "text/plain": [
       "(45349, 20)"
      ]
     },
     "execution_count": 796,
     "metadata": {},
     "output_type": "execute_result"
    }
   ],
   "source": [
    "df_movies.shape # verificadmos que el cambio se haya realizado"
   ]
  },
  {
   "cell_type": "markdown",
   "metadata": {},
   "source": [
    "# Antes de finalizar verificamos nuevamente los tipos de datos"
   ]
  },
  {
   "cell_type": "code",
   "execution_count": 797,
   "metadata": {},
   "outputs": [
    {
     "data": {
      "text/plain": [
       "belongs_to_collection                 object\n",
       "budget                               float64\n",
       "genres                                object\n",
       "id                                    object\n",
       "original_language                     object\n",
       "overview                              object\n",
       "popularity                            object\n",
       "production_companies                  object\n",
       "production_countries                  object\n",
       "release_date                  datetime64[ns]\n",
       "revenue                              float64\n",
       "runtime                              float64\n",
       "spoken_languages                      object\n",
       "status                                object\n",
       "tagline                               object\n",
       "title                                 object\n",
       "vote_average                         float64\n",
       "vote_count                           float64\n",
       "belongs_to_collection_id             float64\n",
       "belongs_to_collection_name            object\n",
       "dtype: object"
      ]
     },
     "execution_count": 797,
     "metadata": {},
     "output_type": "execute_result"
    }
   ],
   "source": [
    "df_movies.dtypes"
   ]
  },
  {
   "cell_type": "markdown",
   "metadata": {},
   "source": [
    "### Si existe algun cambio llamamos de nuevo a la funcion para arreglar el tipo de datos"
   ]
  },
  {
   "cell_type": "markdown",
   "metadata": {},
   "source": [
    "df_movies = convert_column_data_types(df_movies, column_data_types)# funcion para cambiar el tipo de datos de las columnas que necesitamos\n",
    "print(df_movies.dtypes)"
   ]
  },
  {
   "cell_type": "code",
   "execution_count": 798,
   "metadata": {},
   "outputs": [
    {
     "name": "stdout",
     "output_type": "stream",
     "text": [
      "<class 'pandas.core.frame.DataFrame'>\n",
      "Index: 45349 entries, 0 to 45465\n",
      "Data columns (total 20 columns):\n",
      " #   Column                      Non-Null Count  Dtype         \n",
      "---  ------                      --------------  -----         \n",
      " 0   belongs_to_collection       4485 non-null   object        \n",
      " 1   budget                      45346 non-null  float64       \n",
      " 2   genres                      45346 non-null  object        \n",
      " 3   id                          45349 non-null  object        \n",
      " 4   original_language           45335 non-null  object        \n",
      " 5   overview                    44403 non-null  object        \n",
      " 6   popularity                  45349 non-null  object        \n",
      " 7   production_companies        45349 non-null  object        \n",
      " 8   production_countries        45349 non-null  object        \n",
      " 9   release_date                45349 non-null  datetime64[ns]\n",
      " 10  revenue                     45349 non-null  float64       \n",
      " 11  runtime                     45103 non-null  float64       \n",
      " 12  spoken_languages            45349 non-null  object        \n",
      " 13  status                      45269 non-null  object        \n",
      " 14  tagline                     20387 non-null  object        \n",
      " 15  title                       45349 non-null  object        \n",
      " 16  vote_average                45349 non-null  float64       \n",
      " 17  vote_count                  45349 non-null  float64       \n",
      " 18  belongs_to_collection_id    3157 non-null   float64       \n",
      " 19  belongs_to_collection_name  3157 non-null   object        \n",
      "dtypes: datetime64[ns](1), float64(6), object(13)\n",
      "memory usage: 8.3+ MB\n"
     ]
    }
   ],
   "source": [
    "df_movies.info()"
   ]
  },
  {
   "cell_type": "markdown",
   "metadata": {},
   "source": [
    "### Nuevas columnas (return, release_year)"
   ]
  },
  {
   "cell_type": "markdown",
   "metadata": {},
   "source": [
    "#### Funcion para agregar la columna return"
   ]
  },
  {
   "cell_type": "code",
   "execution_count": 799,
   "metadata": {},
   "outputs": [],
   "source": [
    "def add_return_column(dataframe, revenue_column_name, budget_column_name):\n",
    "    dataframe['return'] = dataframe[revenue_column_name] / dataframe[budget_column_name]\n",
    "    dataframe.loc[dataframe[revenue_column_name] == 0, 'return'] = 0\n",
    "    return dataframe"
   ]
  },
  {
   "cell_type": "code",
   "execution_count": 800,
   "metadata": {},
   "outputs": [],
   "source": [
    "#df_movies = pd.DataFrame(df_movies)\n",
    "df_movies = add_return_column(df_movies, 'revenue', 'budget')"
   ]
  },
  {
   "cell_type": "code",
   "execution_count": 801,
   "metadata": {
    "scrolled": true
   },
   "outputs": [
    {
     "data": {
      "text/html": [
       "<div>\n",
       "<style scoped>\n",
       "    .dataframe tbody tr th:only-of-type {\n",
       "        vertical-align: middle;\n",
       "    }\n",
       "\n",
       "    .dataframe tbody tr th {\n",
       "        vertical-align: top;\n",
       "    }\n",
       "\n",
       "    .dataframe thead th {\n",
       "        text-align: right;\n",
       "    }\n",
       "</style>\n",
       "<table border=\"1\" class=\"dataframe\">\n",
       "  <thead>\n",
       "    <tr style=\"text-align: right;\">\n",
       "      <th></th>\n",
       "      <th>belongs_to_collection</th>\n",
       "      <th>budget</th>\n",
       "      <th>genres</th>\n",
       "      <th>id</th>\n",
       "      <th>original_language</th>\n",
       "      <th>overview</th>\n",
       "      <th>popularity</th>\n",
       "      <th>production_companies</th>\n",
       "      <th>production_countries</th>\n",
       "      <th>release_date</th>\n",
       "      <th>...</th>\n",
       "      <th>runtime</th>\n",
       "      <th>spoken_languages</th>\n",
       "      <th>status</th>\n",
       "      <th>tagline</th>\n",
       "      <th>title</th>\n",
       "      <th>vote_average</th>\n",
       "      <th>vote_count</th>\n",
       "      <th>belongs_to_collection_id</th>\n",
       "      <th>belongs_to_collection_name</th>\n",
       "      <th>return</th>\n",
       "    </tr>\n",
       "  </thead>\n",
       "  <tbody>\n",
       "    <tr>\n",
       "      <th>0</th>\n",
       "      <td>{'id': 10194, 'name': 'Toy Story Collection', ...</td>\n",
       "      <td>30000000.0</td>\n",
       "      <td>Animation, Comedy, Family</td>\n",
       "      <td>862</td>\n",
       "      <td>en</td>\n",
       "      <td>Led by Woody, Andy's toys live happily in his ...</td>\n",
       "      <td>21.946.943</td>\n",
       "      <td>Pixar Animation Studios</td>\n",
       "      <td>United States of America</td>\n",
       "      <td>1995-10-30</td>\n",
       "      <td>...</td>\n",
       "      <td>81.0</td>\n",
       "      <td>English</td>\n",
       "      <td>Released</td>\n",
       "      <td>NaN</td>\n",
       "      <td>Toy Story</td>\n",
       "      <td>7.7</td>\n",
       "      <td>5415.0</td>\n",
       "      <td>10194.0</td>\n",
       "      <td>Toy Story Collection</td>\n",
       "      <td>12.451801</td>\n",
       "    </tr>\n",
       "  </tbody>\n",
       "</table>\n",
       "<p>1 rows × 21 columns</p>\n",
       "</div>"
      ],
      "text/plain": [
       "                               belongs_to_collection      budget  \\\n",
       "0  {'id': 10194, 'name': 'Toy Story Collection', ...  30000000.0   \n",
       "\n",
       "                      genres   id original_language  \\\n",
       "0  Animation, Comedy, Family  862                en   \n",
       "\n",
       "                                            overview  popularity  \\\n",
       "0  Led by Woody, Andy's toys live happily in his ...  21.946.943   \n",
       "\n",
       "      production_companies      production_countries release_date  ...  \\\n",
       "0  Pixar Animation Studios  United States of America   1995-10-30  ...   \n",
       "\n",
       "   runtime  spoken_languages    status tagline      title vote_average  \\\n",
       "0     81.0           English  Released     NaN  Toy Story          7.7   \n",
       "\n",
       "   vote_count  belongs_to_collection_id  belongs_to_collection_name     return  \n",
       "0      5415.0                   10194.0        Toy Story Collection  12.451801  \n",
       "\n",
       "[1 rows x 21 columns]"
      ]
     },
     "execution_count": 801,
     "metadata": {},
     "output_type": "execute_result"
    }
   ],
   "source": [
    "df_movies.head(1)"
   ]
  },
  {
   "cell_type": "markdown",
   "metadata": {},
   "source": [
    "#### Funcion para agregar la columna release_year"
   ]
  },
  {
   "cell_type": "code",
   "execution_count": 802,
   "metadata": {
    "scrolled": true
   },
   "outputs": [],
   "source": [
    "def add_release_year_column(dataframe, date_column_name, new_column_name):\n",
    "    dataframe = dataframe.dropna(subset=[date_column_name])\n",
    "    dataframe[new_column_name] = dataframe[date_column_name].dt.year\n",
    "    return dataframe"
   ]
  },
  {
   "cell_type": "code",
   "execution_count": 803,
   "metadata": {},
   "outputs": [],
   "source": [
    "df_movies = add_release_year_column(df_movies, 'release_date', 'release_year')"
   ]
  },
  {
   "cell_type": "code",
   "execution_count": 804,
   "metadata": {
    "scrolled": true
   },
   "outputs": [
    {
     "data": {
      "text/html": [
       "<div>\n",
       "<style scoped>\n",
       "    .dataframe tbody tr th:only-of-type {\n",
       "        vertical-align: middle;\n",
       "    }\n",
       "\n",
       "    .dataframe tbody tr th {\n",
       "        vertical-align: top;\n",
       "    }\n",
       "\n",
       "    .dataframe thead th {\n",
       "        text-align: right;\n",
       "    }\n",
       "</style>\n",
       "<table border=\"1\" class=\"dataframe\">\n",
       "  <thead>\n",
       "    <tr style=\"text-align: right;\">\n",
       "      <th></th>\n",
       "      <th>belongs_to_collection</th>\n",
       "      <th>budget</th>\n",
       "      <th>genres</th>\n",
       "      <th>id</th>\n",
       "      <th>original_language</th>\n",
       "      <th>overview</th>\n",
       "      <th>popularity</th>\n",
       "      <th>production_companies</th>\n",
       "      <th>production_countries</th>\n",
       "      <th>release_date</th>\n",
       "      <th>...</th>\n",
       "      <th>spoken_languages</th>\n",
       "      <th>status</th>\n",
       "      <th>tagline</th>\n",
       "      <th>title</th>\n",
       "      <th>vote_average</th>\n",
       "      <th>vote_count</th>\n",
       "      <th>belongs_to_collection_id</th>\n",
       "      <th>belongs_to_collection_name</th>\n",
       "      <th>return</th>\n",
       "      <th>release_year</th>\n",
       "    </tr>\n",
       "  </thead>\n",
       "  <tbody>\n",
       "    <tr>\n",
       "      <th>0</th>\n",
       "      <td>{'id': 10194, 'name': 'Toy Story Collection', ...</td>\n",
       "      <td>30000000.0</td>\n",
       "      <td>Animation, Comedy, Family</td>\n",
       "      <td>862</td>\n",
       "      <td>en</td>\n",
       "      <td>Led by Woody, Andy's toys live happily in his ...</td>\n",
       "      <td>21.946.943</td>\n",
       "      <td>Pixar Animation Studios</td>\n",
       "      <td>United States of America</td>\n",
       "      <td>1995-10-30</td>\n",
       "      <td>...</td>\n",
       "      <td>English</td>\n",
       "      <td>Released</td>\n",
       "      <td>NaN</td>\n",
       "      <td>Toy Story</td>\n",
       "      <td>7.7</td>\n",
       "      <td>5415.0</td>\n",
       "      <td>10194.0</td>\n",
       "      <td>Toy Story Collection</td>\n",
       "      <td>12.451801</td>\n",
       "      <td>1995</td>\n",
       "    </tr>\n",
       "  </tbody>\n",
       "</table>\n",
       "<p>1 rows × 22 columns</p>\n",
       "</div>"
      ],
      "text/plain": [
       "                               belongs_to_collection      budget  \\\n",
       "0  {'id': 10194, 'name': 'Toy Story Collection', ...  30000000.0   \n",
       "\n",
       "                      genres   id original_language  \\\n",
       "0  Animation, Comedy, Family  862                en   \n",
       "\n",
       "                                            overview  popularity  \\\n",
       "0  Led by Woody, Andy's toys live happily in his ...  21.946.943   \n",
       "\n",
       "      production_companies      production_countries release_date  ...  \\\n",
       "0  Pixar Animation Studios  United States of America   1995-10-30  ...   \n",
       "\n",
       "   spoken_languages    status tagline      title vote_average vote_count  \\\n",
       "0           English  Released     NaN  Toy Story          7.7     5415.0   \n",
       "\n",
       "   belongs_to_collection_id  belongs_to_collection_name     return  \\\n",
       "0                   10194.0        Toy Story Collection  12.451801   \n",
       "\n",
       "  release_year  \n",
       "0         1995  \n",
       "\n",
       "[1 rows x 22 columns]"
      ]
     },
     "execution_count": 804,
     "metadata": {},
     "output_type": "execute_result"
    }
   ],
   "source": [
    "df_movies.head(1)"
   ]
  },
  {
   "cell_type": "markdown",
   "metadata": {},
   "source": [
    "## Limpieza de datos del dataset credits"
   ]
  },
  {
   "cell_type": "code",
   "execution_count": 805,
   "metadata": {},
   "outputs": [],
   "source": [
    "df_credits = pd.read_csv(r'E:\\sabas\\Henry\\Proyecto1\\Dataset\\credits.csv', low_memory=False)"
   ]
  },
  {
   "cell_type": "code",
   "execution_count": 806,
   "metadata": {
    "scrolled": true
   },
   "outputs": [
    {
     "data": {
      "text/html": [
       "<div>\n",
       "<style scoped>\n",
       "    .dataframe tbody tr th:only-of-type {\n",
       "        vertical-align: middle;\n",
       "    }\n",
       "\n",
       "    .dataframe tbody tr th {\n",
       "        vertical-align: top;\n",
       "    }\n",
       "\n",
       "    .dataframe thead th {\n",
       "        text-align: right;\n",
       "    }\n",
       "</style>\n",
       "<table border=\"1\" class=\"dataframe\">\n",
       "  <thead>\n",
       "    <tr style=\"text-align: right;\">\n",
       "      <th></th>\n",
       "      <th>cast</th>\n",
       "      <th>crew</th>\n",
       "      <th>id</th>\n",
       "    </tr>\n",
       "  </thead>\n",
       "  <tbody>\n",
       "    <tr>\n",
       "      <th>0</th>\n",
       "      <td>[{'cast_id': 14, 'character': 'Woody (voice)',...</td>\n",
       "      <td>[{'credit_id': '52fe4284c3a36847f8024f49', 'de...</td>\n",
       "      <td>862</td>\n",
       "    </tr>\n",
       "    <tr>\n",
       "      <th>1</th>\n",
       "      <td>[{'cast_id': 1, 'character': 'Alan Parrish', '...</td>\n",
       "      <td>[{'credit_id': '52fe44bfc3a36847f80a7cd1', 'de...</td>\n",
       "      <td>8844</td>\n",
       "    </tr>\n",
       "  </tbody>\n",
       "</table>\n",
       "</div>"
      ],
      "text/plain": [
       "                                                cast  \\\n",
       "0  [{'cast_id': 14, 'character': 'Woody (voice)',...   \n",
       "1  [{'cast_id': 1, 'character': 'Alan Parrish', '...   \n",
       "\n",
       "                                                crew    id  \n",
       "0  [{'credit_id': '52fe4284c3a36847f8024f49', 'de...   862  \n",
       "1  [{'credit_id': '52fe44bfc3a36847f80a7cd1', 'de...  8844  "
      ]
     },
     "execution_count": 806,
     "metadata": {},
     "output_type": "execute_result"
    }
   ],
   "source": [
    "df_credits.head(2)"
   ]
  },
  {
   "cell_type": "code",
   "execution_count": 807,
   "metadata": {},
   "outputs": [
    {
     "data": {
      "text/plain": [
       "37"
      ]
     },
     "execution_count": 807,
     "metadata": {},
     "output_type": "execute_result"
    }
   ],
   "source": [
    "df_credits.duplicated().sum()"
   ]
  },
  {
   "cell_type": "code",
   "execution_count": 808,
   "metadata": {
    "scrolled": true
   },
   "outputs": [
    {
     "name": "stdout",
     "output_type": "stream",
     "text": [
      "Filas duplicadas antes de la limpieza: 37\n",
      "Filas duplicadas con todos sus duplicados:\n",
      "                                                    cast  \\\n",
      "25950  [{'cast_id': 12, 'character': 'The Creature', ...   \n",
      "25885  [{'cast_id': 12, 'character': 'The Creature', ...   \n",
      "9165   [{'cast_id': 11, 'character': 'Jef Costello', ...   \n",
      "7345   [{'cast_id': 11, 'character': 'Jef Costello', ...   \n",
      "25895  [{'cast_id': 11, 'character': 'Mike Gaucher / ...   \n",
      "...                                                  ...   \n",
      "25897                                                 []   \n",
      "25954  [{'cast_id': 7, 'character': 'Hollander', 'cre...   \n",
      "25887  [{'cast_id': 7, 'character': 'Hollander', 'cre...   \n",
      "24163  [{'cast_id': 2, 'character': 'Ebba', 'credit_i...   \n",
      "45275  [{'cast_id': 2, 'character': 'Ebba', 'credit_i...   \n",
      "\n",
      "                                                    crew      id  \n",
      "25950  [{'credit_id': '52fe4380c3a36847f80590dd', 'de...    3057  \n",
      "25885  [{'credit_id': '52fe4380c3a36847f80590dd', 'de...    3057  \n",
      "9165   [{'credit_id': '52fe440ac3a36847f807ee01', 'de...    5511  \n",
      "7345   [{'credit_id': '52fe440ac3a36847f807ee01', 'de...    5511  \n",
      "25895  [{'credit_id': '52fe44b8c3a36847f80a6389', 'de...    8767  \n",
      "...                                                  ...     ...  \n",
      "25897  [{'credit_id': '52fe4d119251416c7512ed39', 'de...  187156  \n",
      "25954  [{'credit_id': '52fe4da29251416c9111ce5d', 'de...  199591  \n",
      "25887  [{'credit_id': '52fe4da29251416c9111ce5d', 'de...  199591  \n",
      "24163  [{'credit_id': '534fd1a80e0a267eb6000e32', 'de...  265189  \n",
      "45275  [{'credit_id': '534fd1a80e0a267eb6000e32', 'de...  265189  \n",
      "\n",
      "[73 rows x 3 columns]\n",
      "Valores duplicados en la columna 'id' antes de la limpieza: 7\n",
      "Filas con valores duplicados en la columna 'id':\n",
      "                                                    cast  \\\n",
      "5865   [{'cast_id': 15, 'character': 'Chuck Barris', ...   \n",
      "33838  [{'cast_id': 15, 'character': 'Chuck Barris', ...   \n",
      "9576   [{'cast_id': 1, 'character': 'Gerard Carriere'...   \n",
      "26638  [{'cast_id': 1, 'character': 'Gerard Carriere'...   \n",
      "16167  [{'cast_id': 1004, 'character': 'Luke Oarum', ...   \n",
      "38882  [{'cast_id': 1004, 'character': 'Luke Oarum', ...   \n",
      "4356   [{'cast_id': 3, 'character': 'Camille Claudel'...   \n",
      "23533  [{'cast_id': 3, 'character': 'Camille Claudel'...   \n",
      "838    [{'cast_id': 4, 'character': 'Mihoko Nakagawa'...   \n",
      "30013  [{'cast_id': 4, 'character': 'Mihoko Nakagawa'...   \n",
      "13220  [{'cast_id': 12, 'character': 'Narrator', 'cre...   \n",
      "35809  [{'cast_id': 12, 'character': 'Narrator', 'cre...   \n",
      "33196  [{'cast_id': 1, 'character': 'Jenjira', 'credi...   \n",
      "40051  [{'cast_id': 1, 'character': 'Jenjira', 'credi...   \n",
      "\n",
      "                                                    crew      id  \n",
      "5865   [{'credit_id': '52fe43e2c3a36847f80760b5', 'de...    4912  \n",
      "33838  [{'credit_id': '52fe43e2c3a36847f80760a9', 'de...    4912  \n",
      "9576   [{'credit_id': '5468acec22136e68c9000d53', 'de...   69234  \n",
      "26638  [{'credit_id': '52fe47bfc3a368484e0d77bf', 'de...   69234  \n",
      "16167  [{'credit_id': '52fe4a269251416c750df623', 'de...   99080  \n",
      "38882  [{'credit_id': '52fe4a269251416c750df61d', 'de...   99080  \n",
      "4356   [{'credit_id': '52fe4ad6c3a36847f81e461b', 'de...  110428  \n",
      "23533  [{'credit_id': '577ed5389251416976004432', 'de...  110428  \n",
      "838    [{'credit_id': '52fe4b9ac3a368484e190d25', 'de...  132641  \n",
      "30013  [{'credit_id': '56365ed9925141285701b06e', 'de...  132641  \n",
      "13220  [{'credit_id': '52fe4c229251416c910f10d5', 'de...  159849  \n",
      "35809  [{'credit_id': '52fe4c229251416c910f10d5', 'de...  159849  \n",
      "33196  [{'credit_id': '5448c8efc3a3680fb4001582', 'de...  298721  \n",
      "40051  [{'credit_id': '5739ceeac3a3683c9d000c12', 'de...  298721  \n",
      "Limpieza de datos completada.\n"
     ]
    }
   ],
   "source": [
    "clean_movie_data(df_credits) #llama la funcion para limpieza de datos duplicados usada para el otro dataset"
   ]
  },
  {
   "cell_type": "code",
   "execution_count": 809,
   "metadata": {},
   "outputs": [
    {
     "data": {
      "text/plain": [
       "crew\n",
       "[]    771\n",
       "dtype: int64"
      ]
     },
     "execution_count": 809,
     "metadata": {},
     "output_type": "execute_result"
    }
   ],
   "source": [
    "#si bien no existe valores faltantes, se revisan si existen valores repetidos\n",
    "grupos = df_credits.groupby(by=\"crew\").size()\n",
    "grupos[grupos > 1].sort_values(ascending=False)"
   ]
  },
  {
   "cell_type": "code",
   "execution_count": 810,
   "metadata": {
    "scrolled": true
   },
   "outputs": [],
   "source": [
    "import ast #usamos la libreria de sintaxis de arboles abstracta para extraer los datos string del diccionario\n",
    "\n",
    "# función para extraer el nombre del director de la columna \"crew\"\n",
    "def get_director_from_crew(crew):\n",
    "    crew_list = ast.literal_eval(crew) if pd.notna(crew) else []\n",
    "    for person in crew_list:\n",
    "        if person.get('job') == 'Director':\n",
    "            return person.get('name')\n",
    "    return None"
   ]
  },
  {
   "cell_type": "code",
   "execution_count": 811,
   "metadata": {},
   "outputs": [
    {
     "name": "stdout",
     "output_type": "stream",
     "text": [
      "                                                    cast  \\\n",
      "0      [{'cast_id': 14, 'character': 'Woody (voice)',...   \n",
      "1      [{'cast_id': 1, 'character': 'Alan Parrish', '...   \n",
      "2      [{'cast_id': 2, 'character': 'Max Goldman', 'c...   \n",
      "3      [{'cast_id': 1, 'character': \"Savannah 'Vannah...   \n",
      "4      [{'cast_id': 1, 'character': 'George Banks', '...   \n",
      "...                                                  ...   \n",
      "45471  [{'cast_id': 0, 'character': '', 'credit_id': ...   \n",
      "45472  [{'cast_id': 1002, 'character': 'Sister Angela...   \n",
      "45473  [{'cast_id': 6, 'character': 'Emily Shaw', 'cr...   \n",
      "45474  [{'cast_id': 2, 'character': '', 'credit_id': ...   \n",
      "45475                                                 []   \n",
      "\n",
      "                                                    crew      id  \\\n",
      "0      [{'credit_id': '52fe4284c3a36847f8024f49', 'de...     862   \n",
      "1      [{'credit_id': '52fe44bfc3a36847f80a7cd1', 'de...    8844   \n",
      "2      [{'credit_id': '52fe466a9251416c75077a89', 'de...   15602   \n",
      "3      [{'credit_id': '52fe44779251416c91011acb', 'de...   31357   \n",
      "4      [{'credit_id': '52fe44959251416c75039ed7', 'de...   11862   \n",
      "...                                                  ...     ...   \n",
      "45471  [{'credit_id': '5894a97d925141426c00818c', 'de...  439050   \n",
      "45472  [{'credit_id': '52fe4af1c3a36847f81e9b15', 'de...  111109   \n",
      "45473  [{'credit_id': '52fe4776c3a368484e0c8387', 'de...   67758   \n",
      "45474  [{'credit_id': '533bccebc3a36844cf0011a7', 'de...  227506   \n",
      "45475  [{'credit_id': '593e676c92514105b702e68e', 'de...  461257   \n",
      "\n",
      "               director  \n",
      "0         John Lasseter  \n",
      "1          Joe Johnston  \n",
      "2         Howard Deutch  \n",
      "3       Forest Whitaker  \n",
      "4         Charles Shyer  \n",
      "...                 ...  \n",
      "45471  Hamid Nematollah  \n",
      "45472          Lav Diaz  \n",
      "45473    Mark L. Lester  \n",
      "45474  Yakov Protazanov  \n",
      "45475     Daisy Asquith  \n",
      "\n",
      "[45432 rows x 4 columns]\n"
     ]
    }
   ],
   "source": [
    "df_credits['director'] = df_credits['crew'].apply(get_director_from_crew)\n",
    "print(df_credits)"
   ]
  },
  {
   "cell_type": "code",
   "execution_count": 812,
   "metadata": {},
   "outputs": [
    {
     "data": {
      "text/plain": [
       "crew\n",
       "[]    771\n",
       "dtype: int64"
      ]
     },
     "execution_count": 812,
     "metadata": {},
     "output_type": "execute_result"
    }
   ],
   "source": [
    "#se revisan si existen valores repetidos\n",
    "grupos = df_credits.groupby(by=\"crew\").size()\n",
    "grupos[grupos > 1].sort_values(ascending=False)"
   ]
  },
  {
   "cell_type": "code",
   "execution_count": 813,
   "metadata": {},
   "outputs": [
    {
     "name": "stdout",
     "output_type": "stream",
     "text": [
      "                                                    cast  \\\n",
      "0      [{'cast_id': 14, 'character': 'Woody (voice)',...   \n",
      "1      [{'cast_id': 1, 'character': 'Alan Parrish', '...   \n",
      "2      [{'cast_id': 2, 'character': 'Max Goldman', 'c...   \n",
      "3      [{'cast_id': 1, 'character': \"Savannah 'Vannah...   \n",
      "4      [{'cast_id': 1, 'character': 'George Banks', '...   \n",
      "...                                                  ...   \n",
      "45471  [{'cast_id': 0, 'character': '', 'credit_id': ...   \n",
      "45472  [{'cast_id': 1002, 'character': 'Sister Angela...   \n",
      "45473  [{'cast_id': 6, 'character': 'Emily Shaw', 'cr...   \n",
      "45474  [{'cast_id': 2, 'character': '', 'credit_id': ...   \n",
      "45475                                                 []   \n",
      "\n",
      "                                                    crew      id  \\\n",
      "0      [{'credit_id': '52fe4284c3a36847f8024f49', 'de...     862   \n",
      "1      [{'credit_id': '52fe44bfc3a36847f80a7cd1', 'de...    8844   \n",
      "2      [{'credit_id': '52fe466a9251416c75077a89', 'de...   15602   \n",
      "3      [{'credit_id': '52fe44779251416c91011acb', 'de...   31357   \n",
      "4      [{'credit_id': '52fe44959251416c75039ed7', 'de...   11862   \n",
      "...                                                  ...     ...   \n",
      "45471  [{'credit_id': '5894a97d925141426c00818c', 'de...  439050   \n",
      "45472  [{'credit_id': '52fe4af1c3a36847f81e9b15', 'de...  111109   \n",
      "45473  [{'credit_id': '52fe4776c3a368484e0c8387', 'de...   67758   \n",
      "45474  [{'credit_id': '533bccebc3a36844cf0011a7', 'de...  227506   \n",
      "45475  [{'credit_id': '593e676c92514105b702e68e', 'de...  461257   \n",
      "\n",
      "               director                                             actors  \n",
      "0         John Lasseter  [Tom Hanks, Tim Allen, Don Rickles, Jim Varney...  \n",
      "1          Joe Johnston  [Robin Williams, Jonathan Hyde, Kirsten Dunst,...  \n",
      "2         Howard Deutch  [Walter Matthau, Jack Lemmon, Ann-Margret, Sop...  \n",
      "3       Forest Whitaker  [Whitney Houston, Angela Bassett, Loretta Devi...  \n",
      "4         Charles Shyer  [Steve Martin, Diane Keaton, Martin Short, Kim...  \n",
      "...                 ...                                                ...  \n",
      "45471  Hamid Nematollah        [Leila Hatami, Kourosh Tahami, Elham Korda]  \n",
      "45472          Lav Diaz  [Angel Aquino, Perry Dizon, Hazel Orencio, Joe...  \n",
      "45473    Mark L. Lester  [Erika Eleniak, Adam Baldwin, Julie du Page, J...  \n",
      "45474  Yakov Protazanov  [Iwan Mosschuchin, Nathalie Lissenko, Pavel Pa...  \n",
      "45475     Daisy Asquith                                               None  \n",
      "\n",
      "[45432 rows x 5 columns]\n"
     ]
    }
   ],
   "source": [
    "def get_actors_from_cast(cast):\n",
    "    cast_list = ast.literal_eval(cast) if pd.notna(cast) else []\n",
    "    return [person.get('name') for person in cast_list] or None\n",
    "\n",
    "df_credits['actors'] = df_credits['cast'].apply(get_actors_from_cast)\n",
    "print(df_credits)\n"
   ]
  },
  {
   "cell_type": "markdown",
   "metadata": {},
   "source": [
    "### Hacemos merge de los df para tener uno solo con toda la informacion"
   ]
  },
  {
   "cell_type": "code",
   "execution_count": 814,
   "metadata": {},
   "outputs": [],
   "source": [
    "### Verificamos, cantidad de filas y columnas de los Df "
   ]
  },
  {
   "cell_type": "code",
   "execution_count": 815,
   "metadata": {
    "scrolled": true
   },
   "outputs": [
    {
     "data": {
      "text/plain": [
       "(45349, 22)"
      ]
     },
     "execution_count": 815,
     "metadata": {},
     "output_type": "execute_result"
    }
   ],
   "source": [
    "df_movies.shape"
   ]
  },
  {
   "cell_type": "code",
   "execution_count": 816,
   "metadata": {},
   "outputs": [
    {
     "data": {
      "text/plain": [
       "(45432, 5)"
      ]
     },
     "execution_count": 816,
     "metadata": {},
     "output_type": "execute_result"
    }
   ],
   "source": [
    "df_credits.shape"
   ]
  },
  {
   "cell_type": "markdown",
   "metadata": {},
   "source": [
    "### Para hacer el merge utilizamos la columna id verificamos que esta en los 2 df"
   ]
  },
  {
   "cell_type": "code",
   "execution_count": 817,
   "metadata": {},
   "outputs": [
    {
     "name": "stdout",
     "output_type": "stream",
     "text": [
      "<class 'pandas.core.frame.DataFrame'>\n",
      "Index: 45349 entries, 0 to 45465\n",
      "Data columns (total 22 columns):\n",
      " #   Column                      Non-Null Count  Dtype         \n",
      "---  ------                      --------------  -----         \n",
      " 0   belongs_to_collection       4485 non-null   object        \n",
      " 1   budget                      45346 non-null  float64       \n",
      " 2   genres                      45346 non-null  object        \n",
      " 3   id                          45349 non-null  object        \n",
      " 4   original_language           45335 non-null  object        \n",
      " 5   overview                    44403 non-null  object        \n",
      " 6   popularity                  45349 non-null  object        \n",
      " 7   production_companies        45349 non-null  object        \n",
      " 8   production_countries        45349 non-null  object        \n",
      " 9   release_date                45349 non-null  datetime64[ns]\n",
      " 10  revenue                     45349 non-null  float64       \n",
      " 11  runtime                     45103 non-null  float64       \n",
      " 12  spoken_languages            45349 non-null  object        \n",
      " 13  status                      45269 non-null  object        \n",
      " 14  tagline                     20387 non-null  object        \n",
      " 15  title                       45349 non-null  object        \n",
      " 16  vote_average                45349 non-null  float64       \n",
      " 17  vote_count                  45349 non-null  float64       \n",
      " 18  belongs_to_collection_id    3157 non-null   float64       \n",
      " 19  belongs_to_collection_name  3157 non-null   object        \n",
      " 20  return                      45349 non-null  float64       \n",
      " 21  release_year                45349 non-null  int32         \n",
      "dtypes: datetime64[ns](1), float64(7), int32(1), object(13)\n",
      "memory usage: 8.8+ MB\n"
     ]
    }
   ],
   "source": [
    "df_movies.info()"
   ]
  },
  {
   "cell_type": "code",
   "execution_count": 818,
   "metadata": {},
   "outputs": [
    {
     "name": "stdout",
     "output_type": "stream",
     "text": [
      "<class 'pandas.core.frame.DataFrame'>\n",
      "Index: 45432 entries, 0 to 45475\n",
      "Data columns (total 5 columns):\n",
      " #   Column    Non-Null Count  Dtype \n",
      "---  ------    --------------  ----- \n",
      " 0   cast      45432 non-null  object\n",
      " 1   crew      45432 non-null  object\n",
      " 2   id        45432 non-null  int64 \n",
      " 3   director  44545 non-null  object\n",
      " 4   actors    43018 non-null  object\n",
      "dtypes: int64(1), object(4)\n",
      "memory usage: 2.1+ MB\n"
     ]
    }
   ],
   "source": [
    "df_credits.info()"
   ]
  },
  {
   "cell_type": "code",
   "execution_count": 819,
   "metadata": {},
   "outputs": [
    {
     "data": {
      "text/plain": [
       "0"
      ]
     },
     "execution_count": 819,
     "metadata": {},
     "output_type": "execute_result"
    }
   ],
   "source": [
    "df_movies['id'].isna().sum()"
   ]
  },
  {
   "cell_type": "code",
   "execution_count": 820,
   "metadata": {},
   "outputs": [],
   "source": [
    "df_movies['id'] = pd.to_numeric(df_movies['id'], errors='coerce').astype('Int64')"
   ]
  },
  {
   "cell_type": "code",
   "execution_count": 821,
   "metadata": {
    "scrolled": true
   },
   "outputs": [
    {
     "data": {
      "text/plain": [
       "belongs_to_collection                 object\n",
       "budget                               float64\n",
       "genres                                object\n",
       "id                                     Int64\n",
       "original_language                     object\n",
       "overview                              object\n",
       "popularity                            object\n",
       "production_companies                  object\n",
       "production_countries                  object\n",
       "release_date                  datetime64[ns]\n",
       "revenue                              float64\n",
       "runtime                              float64\n",
       "spoken_languages                      object\n",
       "status                                object\n",
       "tagline                               object\n",
       "title                                 object\n",
       "vote_average                         float64\n",
       "vote_count                           float64\n",
       "belongs_to_collection_id             float64\n",
       "belongs_to_collection_name            object\n",
       "return                               float64\n",
       "release_year                           int32\n",
       "dtype: object"
      ]
     },
     "execution_count": 821,
     "metadata": {},
     "output_type": "execute_result"
    }
   ],
   "source": [
    "df_movies.dtypes"
   ]
  },
  {
   "cell_type": "code",
   "execution_count": 822,
   "metadata": {
    "scrolled": true
   },
   "outputs": [],
   "source": [
    "df_movies_int = pd.merge(left=df_movies, right=df_credits, left_on=\"id\", right_on=\"id\", how=\"inner\")\n"
   ]
  },
  {
   "cell_type": "code",
   "execution_count": 823,
   "metadata": {},
   "outputs": [
    {
     "name": "stdout",
     "output_type": "stream",
     "text": [
      "<class 'pandas.core.frame.DataFrame'>\n",
      "RangeIndex: 45345 entries, 0 to 45344\n",
      "Data columns (total 26 columns):\n",
      " #   Column                      Non-Null Count  Dtype         \n",
      "---  ------                      --------------  -----         \n",
      " 0   belongs_to_collection       4485 non-null   object        \n",
      " 1   budget                      45345 non-null  float64       \n",
      " 2   genres                      45345 non-null  object        \n",
      " 3   id                          45345 non-null  Int64         \n",
      " 4   original_language           45334 non-null  object        \n",
      " 5   overview                    44399 non-null  object        \n",
      " 6   popularity                  45345 non-null  object        \n",
      " 7   production_companies        45345 non-null  object        \n",
      " 8   production_countries        45345 non-null  object        \n",
      " 9   release_date                45345 non-null  datetime64[ns]\n",
      " 10  revenue                     45345 non-null  float64       \n",
      " 11  runtime                     45099 non-null  float64       \n",
      " 12  spoken_languages            45345 non-null  object        \n",
      " 13  status                      45265 non-null  object        \n",
      " 14  tagline                     20386 non-null  object        \n",
      " 15  title                       45345 non-null  object        \n",
      " 16  vote_average                45345 non-null  float64       \n",
      " 17  vote_count                  45345 non-null  float64       \n",
      " 18  belongs_to_collection_id    3156 non-null   float64       \n",
      " 19  belongs_to_collection_name  3156 non-null   object        \n",
      " 20  return                      45345 non-null  float64       \n",
      " 21  release_year                45345 non-null  int32         \n",
      " 22  cast                        45345 non-null  object        \n",
      " 23  crew                        45345 non-null  object        \n",
      " 24  director                    44510 non-null  object        \n",
      " 25  actors                      42997 non-null  object        \n",
      "dtypes: Int64(1), datetime64[ns](1), float64(7), int32(1), object(16)\n",
      "memory usage: 8.9+ MB\n"
     ]
    }
   ],
   "source": [
    "df_movies_int .info()"
   ]
  },
  {
   "cell_type": "markdown",
   "metadata": {},
   "source": [
    "### Guardamos el data frame modificado en un archivo csv"
   ]
  },
  {
   "cell_type": "code",
   "execution_count": 825,
   "metadata": {},
   "outputs": [],
   "source": [
    "df_movies_int.to_csv('E:\\sabas\\Henry\\Proyecto1\\df_movies_int.csv', sep = ',' , index=False)"
   ]
  },
  {
   "cell_type": "code",
   "execution_count": 826,
   "metadata": {
    "scrolled": true
   },
   "outputs": [
    {
     "data": {
      "text/html": [
       "<div>\n",
       "<style scoped>\n",
       "    .dataframe tbody tr th:only-of-type {\n",
       "        vertical-align: middle;\n",
       "    }\n",
       "\n",
       "    .dataframe tbody tr th {\n",
       "        vertical-align: top;\n",
       "    }\n",
       "\n",
       "    .dataframe thead th {\n",
       "        text-align: right;\n",
       "    }\n",
       "</style>\n",
       "<table border=\"1\" class=\"dataframe\">\n",
       "  <thead>\n",
       "    <tr style=\"text-align: right;\">\n",
       "      <th></th>\n",
       "      <th>belongs_to_collection</th>\n",
       "      <th>budget</th>\n",
       "      <th>genres</th>\n",
       "      <th>id</th>\n",
       "      <th>original_language</th>\n",
       "      <th>overview</th>\n",
       "      <th>popularity</th>\n",
       "      <th>production_companies</th>\n",
       "      <th>production_countries</th>\n",
       "      <th>release_date</th>\n",
       "      <th>...</th>\n",
       "      <th>spoken_languages</th>\n",
       "      <th>status</th>\n",
       "      <th>tagline</th>\n",
       "      <th>title</th>\n",
       "      <th>vote_average</th>\n",
       "      <th>vote_count</th>\n",
       "      <th>belongs_to_collection_id</th>\n",
       "      <th>belongs_to_collection_name</th>\n",
       "      <th>return</th>\n",
       "      <th>release_year</th>\n",
       "    </tr>\n",
       "  </thead>\n",
       "  <tbody>\n",
       "    <tr>\n",
       "      <th>0</th>\n",
       "      <td>{'id': 10194, 'name': 'Toy Story Collection', ...</td>\n",
       "      <td>30000000.0</td>\n",
       "      <td>Animation, Comedy, Family</td>\n",
       "      <td>862</td>\n",
       "      <td>en</td>\n",
       "      <td>Led by Woody, Andy's toys live happily in his ...</td>\n",
       "      <td>21.946.943</td>\n",
       "      <td>Pixar Animation Studios</td>\n",
       "      <td>United States of America</td>\n",
       "      <td>1995-10-30</td>\n",
       "      <td>...</td>\n",
       "      <td>English</td>\n",
       "      <td>Released</td>\n",
       "      <td>NaN</td>\n",
       "      <td>Toy Story</td>\n",
       "      <td>7.7</td>\n",
       "      <td>5415.0</td>\n",
       "      <td>10194.0</td>\n",
       "      <td>Toy Story Collection</td>\n",
       "      <td>12.451801</td>\n",
       "      <td>1995</td>\n",
       "    </tr>\n",
       "  </tbody>\n",
       "</table>\n",
       "<p>1 rows × 22 columns</p>\n",
       "</div>"
      ],
      "text/plain": [
       "                               belongs_to_collection      budget  \\\n",
       "0  {'id': 10194, 'name': 'Toy Story Collection', ...  30000000.0   \n",
       "\n",
       "                      genres   id original_language  \\\n",
       "0  Animation, Comedy, Family  862                en   \n",
       "\n",
       "                                            overview  popularity  \\\n",
       "0  Led by Woody, Andy's toys live happily in his ...  21.946.943   \n",
       "\n",
       "      production_companies      production_countries release_date  ...  \\\n",
       "0  Pixar Animation Studios  United States of America   1995-10-30  ...   \n",
       "\n",
       "   spoken_languages    status tagline      title vote_average vote_count  \\\n",
       "0           English  Released     NaN  Toy Story          7.7     5415.0   \n",
       "\n",
       "   belongs_to_collection_id  belongs_to_collection_name     return  \\\n",
       "0                   10194.0        Toy Story Collection  12.451801   \n",
       "\n",
       "  release_year  \n",
       "0         1995  \n",
       "\n",
       "[1 rows x 22 columns]"
      ]
     },
     "execution_count": 826,
     "metadata": {},
     "output_type": "execute_result"
    }
   ],
   "source": [
    "df_movies.head(1)"
   ]
  },
  {
   "cell_type": "markdown",
   "metadata": {},
   "source": [
    "### creamos un dataset con menos registros para poder correr los modelos"
   ]
  },
  {
   "cell_type": "code",
   "execution_count": 831,
   "metadata": {},
   "outputs": [],
   "source": [
    "def remove_null_or_zero_rows(dataframe):\n",
    "    # Filtrar los registros con budget, revenue y popularity nulos o igual a 0\n",
    "    filtered_df = dataframe[(dataframe['budget'].notnull()) & (dataframe['budget'] != 0)]\n",
    "    \n",
    "    return filtered_df"
   ]
  },
  {
   "cell_type": "code",
   "execution_count": 832,
   "metadata": {},
   "outputs": [],
   "source": [
    "filtered_df = remove_null_or_zero_rows(df_movies)"
   ]
  },
  {
   "cell_type": "code",
   "execution_count": 835,
   "metadata": {},
   "outputs": [],
   "source": [
    "filtered_df.to_csv('E:\\sabas\\Henry\\Proyecto1\\df_movies_filtered.csv', sep = ',' , index=False)"
   ]
  },
  {
   "cell_type": "markdown",
   "metadata": {},
   "source": [
    "### Dividimos el dataframe en archivos mas pequeños con los datos que necesita cada funcion"
   ]
  },
  {
   "cell_type": "code",
   "execution_count": 828,
   "metadata": {},
   "outputs": [],
   "source": [
    "def create_custom_dataframes(columns, filepath):\n",
    "    usecols = ['id', 'title'] + columns\n",
    "    df = pd.read_csv(filepath, sep=',', header=0, usecols=usecols)\n",
    "    if 'director' in columns:\n",
    "        df = df.loc[-df['director'].isna()]\n",
    "    return df\n",
    "\n",
    "\n",
    "idiomas_pel = ['spoken_languages']\n",
    "dura_pel = ['runtime','release_year']\n",
    "franquicia = ['belongs_to_collection_name','revenue','budget']\n",
    "pais = ['production_countries']\n",
    "produc_exit = ['production_companies','revenue']\n",
    "director = ['director','release_year','return','budget','revenue']\n",
    "recomenda = ['director','title','belongs_to_collection_name','genres','popularity']\n",
    "\n",
    "df_idiomas_pel = create_custom_dataframes(idiomas_pel, 'E:/sabas/Henry/Proyecto1/dataset/df_movies_int.csv')\n",
    "df_dura_pel = create_custom_dataframes(dura_pel, 'E:/sabas/Henry/Proyecto1/dataset/df_movies_int.csv')\n",
    "df_franquicia = create_custom_dataframes(franquicia, 'E:/sabas/Henry/Proyecto1/dataset/df_movies_int.csv')\n",
    "df_pais = create_custom_dataframes(pais, 'E:/sabas/Henry/Proyecto1/dataset/df_movies_int.csv')\n",
    "df_produc_exit = create_custom_dataframes(produc_exit, 'E:/sabas/Henry/Proyecto1/dataset/df_movies_int.csv')\n",
    "df_director = create_custom_dataframes(director, 'E:/sabas/Henry/Proyecto1/dataset/df_movies_int.csv')\n",
    "df_recomenda = create_custom_dataframes(recomenda, 'E:/sabas/Henry/Proyecto1/dataset/df_movies_int.csv')"
   ]
  },
  {
   "cell_type": "markdown",
   "metadata": {},
   "source": [
    "#### Guardamos los archivos csv"
   ]
  },
  {
   "cell_type": "code",
   "execution_count": 829,
   "metadata": {},
   "outputs": [],
   "source": [
    "df_idiomas_pel.to_csv('E:/sabas/Henry/Proyecto1/dataset_idiomas_pel.csv', sep = ',' , index=False)\n",
    "df_dura_pel.to_csv('E:/sabas/Henry/Proyecto1/dataset_dura_pel.csv', sep = ',' , index=False)\n",
    "df_franquicia.to_csv('E:/sabas/Henry/Proyecto1/dataset_franquicia.csv', sep = ',' , index=False)\n",
    "df_pais.to_csv('E:/sabas/Henry/Proyecto1/dataset_pais.csv', sep = ',' , index=False)\n",
    "df_produc_exit.to_csv('E:/sabas/Henry/Proyecto1/dataset_produc_exit.csv', sep = ',' , index=False)\n",
    "df_director.to_csv('E:/sabas/Henry/Proyecto1/dataset_director.csv', sep = ',' , index=False)\n",
    "df_recomenda.to_csv('E:/sabas/Henry/Proyecto1/dataset_recomenda.csv', sep = ',' , index=False)"
   ]
  },
  {
   "cell_type": "code",
   "execution_count": null,
   "metadata": {},
   "outputs": [],
   "source": []
  },
  {
   "cell_type": "code",
   "execution_count": null,
   "metadata": {},
   "outputs": [],
   "source": []
  }
 ],
 "metadata": {
  "kernelspec": {
   "display_name": "Python 3 (ipykernel)",
   "language": "python",
   "name": "python3"
  },
  "language_info": {
   "codemirror_mode": {
    "name": "ipython",
    "version": 3
   },
   "file_extension": ".py",
   "mimetype": "text/x-python",
   "name": "python",
   "nbconvert_exporter": "python",
   "pygments_lexer": "ipython3",
   "version": "3.8.7"
  }
 },
 "nbformat": 4,
 "nbformat_minor": 4
}
